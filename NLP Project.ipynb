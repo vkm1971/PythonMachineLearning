{
    "cells": [
        {
            "cell_type": "markdown", 
            "source": "___\n\n<a href='http://www.pieriandata.com'> <img src='../Pierian_Data_Logo.png' /></a>\n___", 
            "metadata": {}
        }, 
        {
            "cell_type": "markdown", 
            "source": "# Natural Language Processing Project\n\nWelcome to the NLP Project for this section of the course. In this NLP project you will be attempting to classify Yelp Reviews into 1 star or 5 star categories based off the text content in the reviews. This will be a simpler procedure than the lecture, since we will utilize the pipeline methods for more complex tasks.\n\nWe will use the [Yelp Review Data Set from Kaggle](https://www.kaggle.com/c/yelp-recsys-2013).\n\nEach observation in this dataset is a review of a particular business by a particular user.\n\nThe \"stars\" column is the number of stars (1 through 5) assigned by the reviewer to the business. (Higher stars is better.) In other words, it is the rating of the business by the person who wrote the review.\n\nThe \"cool\" column is the number of \"cool\" votes this review received from other Yelp users. \n\nAll reviews start with 0 \"cool\" votes, and there is no limit to how many \"cool\" votes a review can receive. In other words, it is a rating of the review itself, not a rating of the business.\n\nThe \"useful\" and \"funny\" columns are similar to the \"cool\" column.\n\nLet's get started! Just follow the directions below!", 
            "metadata": {}
        }, 
        {
            "cell_type": "markdown", 
            "source": "## Imports\n **Import the usual suspects. :) **", 
            "metadata": {}
        }, 
        {
            "cell_type": "code", 
            "source": "import pandas as pd\nimport numpy as np\nimport matplotlib.pyplot as plt\nimport seaborn as sns\n%matplotlib inline", 
            "execution_count": 2, 
            "outputs": [], 
            "metadata": {
                "collapsed": true
            }
        }, 
        {
            "cell_type": "markdown", 
            "source": "## The Data\n\n**Read the yelp.csv file and set it as a dataframe called yelp.**", 
            "metadata": {}
        }, 
        {
            "cell_type": "code", 
            "source": "\nfrom io import StringIO\nimport requests\nimport json\nimport pandas as pd\n\n# @hidden_cell\n# This function accesses a file in your Object Storage. The definition contains your credentials.\n# You might want to remove those credentials before you share your notebook.\ndef get_object_storage_file_with_credentials_19099026f8df40b6aec4353c7e897e95(container, filename):\n    \"\"\"This functions returns a StringIO object containing\n    the file content from Bluemix Object Storage.\"\"\"\n\n    url1 = ''.join(['https://identity.open.softlayer.com', '/v3/auth/tokens'])\n    data = {'auth': {'identity': {'methods': ['password'],\n            'password': {'user': {'name': 'member_5c7ca48007cfb646b75667f037d9ca9a469d66ad','domain': {'id': '595d59e0d3fe4089afc692bd55396f11'},\n            'password': 'C_8vk=7&^H1Oa~XJ'}}}}}\n    headers1 = {'Content-Type': 'application/json'}\n    resp1 = requests.post(url=url1, data=json.dumps(data), headers=headers1)\n    resp1_body = resp1.json()\n    for e1 in resp1_body['token']['catalog']:\n        if(e1['type']=='object-store'):\n            for e2 in e1['endpoints']:\n                        if(e2['interface']=='public'and e2['region']=='dallas'):\n                            url2 = ''.join([e2['url'],'/', container, '/', filename])\n    s_subject_token = resp1.headers['x-subject-token']\n    headers2 = {'X-Auth-Token': s_subject_token, 'accept': 'application/json'}\n    resp2 = requests.get(url=url2, headers=headers2)\n    return StringIO(resp2.text)\n\nyelp = pd.read_csv(get_object_storage_file_with_credentials_19099026f8df40b6aec4353c7e897e95('PythonMachineLearning', 'yelp.csv'))\nyelp.head(2)\n", 
            "execution_count": 7, 
            "outputs": [
                {
                    "output_type": "execute_result", 
                    "execution_count": 7, 
                    "data": {
                        "text/html": "<div>\n<table border=\"1\" class=\"dataframe\">\n  <thead>\n    <tr style=\"text-align: right;\">\n      <th></th>\n      <th>business_id</th>\n      <th>date</th>\n      <th>review_id</th>\n      <th>stars</th>\n      <th>text</th>\n      <th>type</th>\n      <th>user_id</th>\n      <th>cool</th>\n      <th>useful</th>\n      <th>funny</th>\n    </tr>\n  </thead>\n  <tbody>\n    <tr>\n      <th>0</th>\n      <td>9yKzy9PApeiPPOUJEtnvkg</td>\n      <td>2011-01-26</td>\n      <td>fWKvX83p0-ka4JS3dc6E5A</td>\n      <td>5</td>\n      <td>My wife took me here on my birthday for breakf...</td>\n      <td>review</td>\n      <td>rLtl8ZkDX5vH5nAx9C3q5Q</td>\n      <td>2</td>\n      <td>5</td>\n      <td>0</td>\n    </tr>\n    <tr>\n      <th>1</th>\n      <td>ZRJwVLyzEJq1VAihDhYiow</td>\n      <td>2011-07-27</td>\n      <td>IjZ33sJrzXqU-0X6U8NwyA</td>\n      <td>5</td>\n      <td>I have no idea why some people give bad review...</td>\n      <td>review</td>\n      <td>0a2KyEL0d3Yb1V6aivbIuQ</td>\n      <td>0</td>\n      <td>0</td>\n      <td>0</td>\n    </tr>\n  </tbody>\n</table>\n</div>", 
                        "text/plain": "              business_id        date               review_id  stars  \\\n0  9yKzy9PApeiPPOUJEtnvkg  2011-01-26  fWKvX83p0-ka4JS3dc6E5A      5   \n1  ZRJwVLyzEJq1VAihDhYiow  2011-07-27  IjZ33sJrzXqU-0X6U8NwyA      5   \n\n                                                text    type  \\\n0  My wife took me here on my birthday for breakf...  review   \n1  I have no idea why some people give bad review...  review   \n\n                  user_id  cool  useful  funny  \n0  rLtl8ZkDX5vH5nAx9C3q5Q     2       5      0  \n1  0a2KyEL0d3Yb1V6aivbIuQ     0       0      0  "
                    }, 
                    "metadata": {}
                }
            ], 
            "metadata": {
                "collapsed": false
            }
        }, 
        {
            "cell_type": "markdown", 
            "source": "** Check the head, info , and describe methods on yelp.**", 
            "metadata": {}
        }, 
        {
            "cell_type": "code", 
            "source": "yelp.head(2)", 
            "execution_count": 5, 
            "outputs": [
                {
                    "output_type": "execute_result", 
                    "execution_count": 5, 
                    "data": {
                        "text/html": "<div>\n<table border=\"1\" class=\"dataframe\">\n  <thead>\n    <tr style=\"text-align: right;\">\n      <th></th>\n      <th>business_id</th>\n      <th>date</th>\n      <th>review_id</th>\n      <th>stars</th>\n      <th>text</th>\n      <th>type</th>\n      <th>user_id</th>\n      <th>cool</th>\n      <th>useful</th>\n      <th>funny</th>\n    </tr>\n  </thead>\n  <tbody>\n    <tr>\n      <th>0</th>\n      <td>9yKzy9PApeiPPOUJEtnvkg</td>\n      <td>2011-01-26</td>\n      <td>fWKvX83p0-ka4JS3dc6E5A</td>\n      <td>5</td>\n      <td>My wife took me here on my birthday for breakf...</td>\n      <td>review</td>\n      <td>rLtl8ZkDX5vH5nAx9C3q5Q</td>\n      <td>2</td>\n      <td>5</td>\n      <td>0</td>\n    </tr>\n    <tr>\n      <th>1</th>\n      <td>ZRJwVLyzEJq1VAihDhYiow</td>\n      <td>2011-07-27</td>\n      <td>IjZ33sJrzXqU-0X6U8NwyA</td>\n      <td>5</td>\n      <td>I have no idea why some people give bad review...</td>\n      <td>review</td>\n      <td>0a2KyEL0d3Yb1V6aivbIuQ</td>\n      <td>0</td>\n      <td>0</td>\n      <td>0</td>\n    </tr>\n  </tbody>\n</table>\n</div>", 
                        "text/plain": "              business_id        date               review_id  stars  \\\n0  9yKzy9PApeiPPOUJEtnvkg  2011-01-26  fWKvX83p0-ka4JS3dc6E5A      5   \n1  ZRJwVLyzEJq1VAihDhYiow  2011-07-27  IjZ33sJrzXqU-0X6U8NwyA      5   \n\n                                                text    type  \\\n0  My wife took me here on my birthday for breakf...  review   \n1  I have no idea why some people give bad review...  review   \n\n                  user_id  cool  useful  funny  \n0  rLtl8ZkDX5vH5nAx9C3q5Q     2       5      0  \n1  0a2KyEL0d3Yb1V6aivbIuQ     0       0      0  "
                    }, 
                    "metadata": {}
                }
            ], 
            "metadata": {
                "collapsed": false
            }
        }, 
        {
            "cell_type": "code", 
            "source": "yelp.info()", 
            "execution_count": 8, 
            "outputs": [
                {
                    "output_type": "stream", 
                    "text": "<class 'pandas.core.frame.DataFrame'>\nRangeIndex: 10000 entries, 0 to 9999\nData columns (total 10 columns):\nbusiness_id    10000 non-null object\ndate           10000 non-null object\nreview_id      10000 non-null object\nstars          10000 non-null int64\ntext           10000 non-null object\ntype           10000 non-null object\nuser_id        10000 non-null object\ncool           10000 non-null int64\nuseful         10000 non-null int64\nfunny          10000 non-null int64\ndtypes: int64(4), object(6)\nmemory usage: 781.3+ KB\n", 
                    "name": "stdout"
                }
            ], 
            "metadata": {
                "collapsed": false
            }
        }, 
        {
            "cell_type": "code", 
            "source": "yelp.describe()", 
            "execution_count": 9, 
            "outputs": [
                {
                    "output_type": "execute_result", 
                    "execution_count": 9, 
                    "data": {
                        "text/html": "<div>\n<table border=\"1\" class=\"dataframe\">\n  <thead>\n    <tr style=\"text-align: right;\">\n      <th></th>\n      <th>stars</th>\n      <th>cool</th>\n      <th>useful</th>\n      <th>funny</th>\n    </tr>\n  </thead>\n  <tbody>\n    <tr>\n      <th>count</th>\n      <td>10000.000000</td>\n      <td>10000.000000</td>\n      <td>10000.000000</td>\n      <td>10000.000000</td>\n    </tr>\n    <tr>\n      <th>mean</th>\n      <td>3.777500</td>\n      <td>0.876800</td>\n      <td>1.409300</td>\n      <td>0.701300</td>\n    </tr>\n    <tr>\n      <th>std</th>\n      <td>1.214636</td>\n      <td>2.067861</td>\n      <td>2.336647</td>\n      <td>1.907942</td>\n    </tr>\n    <tr>\n      <th>min</th>\n      <td>1.000000</td>\n      <td>0.000000</td>\n      <td>0.000000</td>\n      <td>0.000000</td>\n    </tr>\n    <tr>\n      <th>25%</th>\n      <td>3.000000</td>\n      <td>0.000000</td>\n      <td>0.000000</td>\n      <td>0.000000</td>\n    </tr>\n    <tr>\n      <th>50%</th>\n      <td>4.000000</td>\n      <td>0.000000</td>\n      <td>1.000000</td>\n      <td>0.000000</td>\n    </tr>\n    <tr>\n      <th>75%</th>\n      <td>5.000000</td>\n      <td>1.000000</td>\n      <td>2.000000</td>\n      <td>1.000000</td>\n    </tr>\n    <tr>\n      <th>max</th>\n      <td>5.000000</td>\n      <td>77.000000</td>\n      <td>76.000000</td>\n      <td>57.000000</td>\n    </tr>\n  </tbody>\n</table>\n</div>", 
                        "text/plain": "              stars          cool        useful         funny\ncount  10000.000000  10000.000000  10000.000000  10000.000000\nmean       3.777500      0.876800      1.409300      0.701300\nstd        1.214636      2.067861      2.336647      1.907942\nmin        1.000000      0.000000      0.000000      0.000000\n25%        3.000000      0.000000      0.000000      0.000000\n50%        4.000000      0.000000      1.000000      0.000000\n75%        5.000000      1.000000      2.000000      1.000000\nmax        5.000000     77.000000     76.000000     57.000000"
                    }, 
                    "metadata": {}
                }
            ], 
            "metadata": {
                "collapsed": false
            }
        }, 
        {
            "cell_type": "markdown", 
            "source": "**Create a new column called \"text length\" which is the number of words in the text column.**", 
            "metadata": {}
        }, 
        {
            "cell_type": "code", 
            "source": "yelp['text length'] = yelp['text'].apply(len)", 
            "execution_count": 11, 
            "outputs": [], 
            "metadata": {
                "collapsed": true
            }
        }, 
        {
            "cell_type": "markdown", 
            "source": "# EDA\n\nLet's explore the data\n\n## Imports\n\n**Import the data visualization libraries if you haven't done so already.**", 
            "metadata": {}
        }, 
        {
            "cell_type": "code", 
            "source": "sns.set_style('white')", 
            "execution_count": 12, 
            "outputs": [], 
            "metadata": {
                "collapsed": true
            }
        }, 
        {
            "cell_type": "markdown", 
            "source": "**Use FacetGrid from the seaborn library to create a grid of 5 histograms of text length based off of the star ratings. Reference the seaborn documentation for hints on this**", 
            "metadata": {}
        }, 
        {
            "cell_type": "code", 
            "source": "g = sns.FacetGrid(yelp, col='stars')\ng.map(plt.hist, 'text length', bins=50)", 
            "execution_count": 13, 
            "outputs": [
                {
                    "output_type": "execute_result", 
                    "execution_count": 13, 
                    "data": {
                        "text/plain": "<seaborn.axisgrid.FacetGrid at 0x7fb5e8167208>"
                    }, 
                    "metadata": {}
                }, 
                {
                    "output_type": "display_data", 
                    "metadata": {}, 
                    "data": {
                        "image/png": "[encoded data removed]", 
                        "text/plain": "<matplotlib.figure.Figure at 0x7fb5e81678d0>"
                    }
                }
            ], 
            "metadata": {
                "collapsed": false
            }
        }, 
        {
            "cell_type": "markdown", 
            "source": "**Create a boxplot of text length for each star category.**", 
            "metadata": {}
        }, 
        {
            "cell_type": "code", 
            "source": "sns.boxplot(x='stars', y='text length', data=yelp, palette='rainbow')", 
            "execution_count": 16, 
            "outputs": [
                {
                    "output_type": "execute_result", 
                    "execution_count": 16, 
                    "data": {
                        "text/plain": "<matplotlib.axes._subplots.AxesSubplot at 0x7fb5d82e0b38>"
                    }, 
                    "metadata": {}
                }, 
                {
                    "output_type": "display_data", 
                    "metadata": {}, 
                    "data": {
                        "image/png": "[encoded data removed]", 
                        "text/plain": "<matplotlib.figure.Figure at 0x7fb5d827dac8>"
                    }
                }
            ], 
            "metadata": {
                "collapsed": false
            }
        }, 
        {
            "cell_type": "markdown", 
            "source": "**Create a countplot of the number of occurrences for each type of star rating.**", 
            "metadata": {}
        }, 
        {
            "cell_type": "code", 
            "source": "sns.countplot(x='stars', data=yelp, palette='rainbow')", 
            "execution_count": 17, 
            "outputs": [
                {
                    "output_type": "execute_result", 
                    "execution_count": 17, 
                    "data": {
                        "text/plain": "<matplotlib.axes._subplots.AxesSubplot at 0x7fb5d81c0588>"
                    }, 
                    "metadata": {}
                }, 
                {
                    "output_type": "display_data", 
                    "metadata": {}, 
                    "data": {
                        "image/png": "[encoded data removed]", 
                        "text/plain": "<matplotlib.figure.Figure at 0x7fb5d82e4f28>"
                    }
                }
            ], 
            "metadata": {
                "collapsed": false
            }
        }, 
        {
            "cell_type": "markdown", 
            "source": "** Use groupby to get the mean values of the numerical columns, you should be able to create this dataframe with the operation:**", 
            "metadata": {}
        }, 
        {
            "cell_type": "code", 
            "source": "stars = yelp.groupby('stars').mean()\nstars", 
            "execution_count": 19, 
            "outputs": [
                {
                    "output_type": "execute_result", 
                    "execution_count": 19, 
                    "data": {
                        "text/html": "<div>\n<table border=\"1\" class=\"dataframe\">\n  <thead>\n    <tr style=\"text-align: right;\">\n      <th></th>\n      <th>cool</th>\n      <th>useful</th>\n      <th>funny</th>\n      <th>text length</th>\n    </tr>\n    <tr>\n      <th>stars</th>\n      <th></th>\n      <th></th>\n      <th></th>\n      <th></th>\n    </tr>\n  </thead>\n  <tbody>\n    <tr>\n      <th>1</th>\n      <td>0.576769</td>\n      <td>1.604806</td>\n      <td>1.056075</td>\n      <td>826.524700</td>\n    </tr>\n    <tr>\n      <th>2</th>\n      <td>0.719525</td>\n      <td>1.563107</td>\n      <td>0.875944</td>\n      <td>842.265372</td>\n    </tr>\n    <tr>\n      <th>3</th>\n      <td>0.788501</td>\n      <td>1.306639</td>\n      <td>0.694730</td>\n      <td>758.505133</td>\n    </tr>\n    <tr>\n      <th>4</th>\n      <td>0.954623</td>\n      <td>1.395916</td>\n      <td>0.670448</td>\n      <td>712.944129</td>\n    </tr>\n    <tr>\n      <th>5</th>\n      <td>0.944261</td>\n      <td>1.381780</td>\n      <td>0.608631</td>\n      <td>625.015583</td>\n    </tr>\n  </tbody>\n</table>\n</div>", 
                        "text/plain": "           cool    useful     funny  text length\nstars                                           \n1      0.576769  1.604806  1.056075   826.524700\n2      0.719525  1.563107  0.875944   842.265372\n3      0.788501  1.306639  0.694730   758.505133\n4      0.954623  1.395916  0.670448   712.944129\n5      0.944261  1.381780  0.608631   625.015583"
                    }, 
                    "metadata": {}
                }
            ], 
            "metadata": {
                "collapsed": false
            }
        }, 
        {
            "cell_type": "markdown", 
            "source": "**Use the corr() method on that groupby dataframe to produce this dataframe:**", 
            "metadata": {}
        }, 
        {
            "cell_type": "code", 
            "source": "stars.corr()", 
            "execution_count": 20, 
            "outputs": [
                {
                    "output_type": "execute_result", 
                    "execution_count": 20, 
                    "data": {
                        "text/html": "<div>\n<table border=\"1\" class=\"dataframe\">\n  <thead>\n    <tr style=\"text-align: right;\">\n      <th></th>\n      <th>cool</th>\n      <th>useful</th>\n      <th>funny</th>\n      <th>text length</th>\n    </tr>\n  </thead>\n  <tbody>\n    <tr>\n      <th>cool</th>\n      <td>1.000000</td>\n      <td>-0.743329</td>\n      <td>-0.944939</td>\n      <td>-0.857651</td>\n    </tr>\n    <tr>\n      <th>useful</th>\n      <td>-0.743329</td>\n      <td>1.000000</td>\n      <td>0.894506</td>\n      <td>0.699895</td>\n    </tr>\n    <tr>\n      <th>funny</th>\n      <td>-0.944939</td>\n      <td>0.894506</td>\n      <td>1.000000</td>\n      <td>0.843463</td>\n    </tr>\n    <tr>\n      <th>text length</th>\n      <td>-0.857651</td>\n      <td>0.699895</td>\n      <td>0.843463</td>\n      <td>1.000000</td>\n    </tr>\n  </tbody>\n</table>\n</div>", 
                        "text/plain": "                 cool    useful     funny  text length\ncool         1.000000 -0.743329 -0.944939    -0.857651\nuseful      -0.743329  1.000000  0.894506     0.699895\nfunny       -0.944939  0.894506  1.000000     0.843463\ntext length -0.857651  0.699895  0.843463     1.000000"
                    }, 
                    "metadata": {}
                }
            ], 
            "metadata": {
                "collapsed": false
            }
        }, 
        {
            "cell_type": "markdown", 
            "source": "**Then use seaborn to create a heatmap based off that .corr() dataframe:**", 
            "metadata": {}
        }, 
        {
            "cell_type": "code", 
            "source": "sns.heatmap(stars.corr(), cmap='coolwarm', annot=True)", 
            "execution_count": 22, 
            "outputs": [
                {
                    "output_type": "execute_result", 
                    "execution_count": 22, 
                    "data": {
                        "text/plain": "<matplotlib.axes._subplots.AxesSubplot at 0x7fb5d81cde10>"
                    }, 
                    "metadata": {}
                }, 
                {
                    "output_type": "display_data", 
                    "metadata": {}, 
                    "data": {
                        "image/png": "[encoded data removed]", 
                        "text/plain": "<matplotlib.figure.Figure at 0x7fb5d81dbc50>"
                    }
                }
            ], 
            "metadata": {
                "collapsed": false
            }
        }, 
        {
            "cell_type": "markdown", 
            "source": "## NLP Classification Task\n\nLet's move on to the actual task. To make things a little easier, go ahead and only grab reviews that were either 1 star or 5 stars.\n\n**Create a dataframe called yelp_class that contains the columns of yelp dataframe but for only the 1 or 5 star reviews.**", 
            "metadata": {}
        }, 
        {
            "cell_type": "code", 
            "source": "yelp_class = yelp[(yelp['stars']==1) | (yelp['stars']==5)]", 
            "execution_count": 24, 
            "outputs": [], 
            "metadata": {
                "collapsed": false
            }
        }, 
        {
            "cell_type": "code", 
            "source": "yelp_class.info()", 
            "execution_count": 26, 
            "outputs": [
                {
                    "output_type": "stream", 
                    "text": "<class 'pandas.core.frame.DataFrame'>\nInt64Index: 4086 entries, 0 to 9999\nData columns (total 11 columns):\nbusiness_id    4086 non-null object\ndate           4086 non-null object\nreview_id      4086 non-null object\nstars          4086 non-null int64\ntext           4086 non-null object\ntype           4086 non-null object\nuser_id        4086 non-null object\ncool           4086 non-null int64\nuseful         4086 non-null int64\nfunny          4086 non-null int64\ntext length    4086 non-null int64\ndtypes: int64(5), object(6)\nmemory usage: 383.1+ KB\n", 
                    "name": "stdout"
                }
            ], 
            "metadata": {
                "collapsed": false
            }
        }, 
        {
            "cell_type": "markdown", 
            "source": "** Create two objects X and y. X will be the 'text' column of yelp_class and y will be the 'stars' column of yelp_class. (Your features and target/labels)**", 
            "metadata": {}
        }, 
        {
            "cell_type": "code", 
            "source": "X = yelp_class['text']\ny = yelp_class['stars']", 
            "execution_count": 27, 
            "outputs": [], 
            "metadata": {
                "collapsed": false
            }
        }, 
        {
            "cell_type": "markdown", 
            "source": "**Import CountVectorizer and create a CountVectorizer object.**", 
            "metadata": {}
        }, 
        {
            "cell_type": "code", 
            "source": "from sklearn.feature_extraction.text import CountVectorizer\ncv = CountVectorizer()", 
            "execution_count": 28, 
            "outputs": [], 
            "metadata": {
                "collapsed": true
            }
        }, 
        {
            "cell_type": "markdown", 
            "source": "** Use the fit_transform method on the CountVectorizer object and pass in X (the 'text' column). Save this result by overwriting X.**", 
            "metadata": {}
        }, 
        {
            "cell_type": "code", 
            "source": "X = cv.fit_transform(X)", 
            "execution_count": 29, 
            "outputs": [], 
            "metadata": {
                "collapsed": false
            }
        }, 
        {
            "cell_type": "markdown", 
            "source": "## Train Test Split\n\nLet's split our data into training and testing data.\n\n** Use train_test_split to split up the data into X_train, X_test, y_train, y_test. Use test_size=0.3 and random_state=101 **", 
            "metadata": {}
        }, 
        {
            "cell_type": "code", 
            "source": "from sklearn.cross_validation import train_test_split", 
            "execution_count": 30, 
            "outputs": [], 
            "metadata": {
                "collapsed": true
            }
        }, 
        {
            "cell_type": "code", 
            "source": "X_train, X_test, y_train, y_test = train_test_split (X, y, test_size=0.3, random_state=101)", 
            "execution_count": 31, 
            "outputs": [], 
            "metadata": {
                "collapsed": true
            }
        }, 
        {
            "cell_type": "markdown", 
            "source": "## Training a Model\n\nTime to train a model!\n\n** Import MultinomialNB and create an instance of the estimator and call is nb **", 
            "metadata": {}
        }, 
        {
            "cell_type": "code", 
            "source": "from sklearn.naive_bayes import MultinomialNB\nnb = MultinomialNB()", 
            "execution_count": 32, 
            "outputs": [], 
            "metadata": {
                "collapsed": true
            }
        }, 
        {
            "cell_type": "markdown", 
            "source": "**Now fit nb using the training data.**", 
            "metadata": {}
        }, 
        {
            "cell_type": "code", 
            "source": "nb.fit(X_train, y_train)", 
            "execution_count": 33, 
            "outputs": [
                {
                    "output_type": "execute_result", 
                    "execution_count": 33, 
                    "data": {
                        "text/plain": "MultinomialNB(alpha=1.0, class_prior=None, fit_prior=True)"
                    }, 
                    "metadata": {}
                }
            ], 
            "metadata": {
                "collapsed": false
            }
        }, 
        {
            "cell_type": "markdown", 
            "source": "## Predictions and Evaluations\n\nTime to see how our model did!\n\n**Use the predict method off of nb to predict labels from X_test.**", 
            "metadata": {}
        }, 
        {
            "cell_type": "code", 
            "source": "predictions = nb.predict(X_test)", 
            "execution_count": 34, 
            "outputs": [], 
            "metadata": {
                "collapsed": true
            }
        }, 
        {
            "cell_type": "markdown", 
            "source": "** Create a confusion matrix and classification report using these predictions and y_test **", 
            "metadata": {}
        }, 
        {
            "cell_type": "code", 
            "source": "from sklearn.metrics import confusion_matrix, classification_report", 
            "execution_count": 36, 
            "outputs": [], 
            "metadata": {
                "collapsed": true
            }
        }, 
        {
            "cell_type": "code", 
            "source": "print (confusion_matrix(y_test, predictions))\nprint('\\n')\nprint(classification_report(y_test,predictions))", 
            "execution_count": 38, 
            "outputs": [
                {
                    "output_type": "stream", 
                    "text": "[[159  69]\n [ 22 976]]\n\n\n             precision    recall  f1-score   support\n\n          1       0.88      0.70      0.78       228\n          5       0.93      0.98      0.96       998\n\navg / total       0.92      0.93      0.92      1226\n\n", 
                    "name": "stdout"
                }
            ], 
            "metadata": {
                "collapsed": false
            }
        }, 
        {
            "cell_type": "markdown", 
            "source": "**Great! Let's see what happens if we try to include TF-IDF to this process using a pipeline.**", 
            "metadata": {}
        }, 
        {
            "cell_type": "markdown", 
            "source": "# Using Text Processing\n\n** Import TfidfTransformer from sklearn. **", 
            "metadata": {}
        }, 
        {
            "cell_type": "code", 
            "source": "from sklearn.feature_extraction.text import TfidfTransformer", 
            "execution_count": 39, 
            "outputs": [], 
            "metadata": {
                "collapsed": true
            }
        }, 
        {
            "cell_type": "markdown", 
            "source": "** Import Pipeline from sklearn. **", 
            "metadata": {}
        }, 
        {
            "cell_type": "code", 
            "source": "from sklearn.pipeline import Pipeline", 
            "execution_count": 40, 
            "outputs": [], 
            "metadata": {
                "collapsed": true
            }
        }, 
        {
            "cell_type": "markdown", 
            "source": "** Now create a pipeline with the following steps:CountVectorizer(), TfidfTransformer(),MultinomialNB()**", 
            "metadata": {}
        }, 
        {
            "cell_type": "code", 
            "source": "pipe = Pipeline([('bow', CountVectorizer()),\n                ('tfidf', TfidfTransformer()),\n                ('model', MultinomialNB())])", 
            "execution_count": 42, 
            "outputs": [], 
            "metadata": {
                "collapsed": false
            }
        }, 
        {
            "cell_type": "markdown", 
            "source": "## Using the Pipeline\n\n**Time to use the pipeline! Remember this pipeline has all your pre-process steps in it already, meaning we'll need to re-split the original data (Remember that we overwrote X as the CountVectorized version. What we need is just the text**", 
            "metadata": {}
        }, 
        {
            "cell_type": "markdown", 
            "source": "### Train Test Split\n\n**Redo the train test split on the yelp_class object.**", 
            "metadata": {}
        }, 
        {
            "cell_type": "code", 
            "source": "X = yelp_class['text']\ny = yelp_class['stars']\nX_train, X_test, y_train, y_test = train_test_split (X, y, test_size=0.3, random_state=101)", 
            "execution_count": 44, 
            "outputs": [], 
            "metadata": {
                "collapsed": true
            }
        }, 
        {
            "cell_type": "markdown", 
            "source": "**Now fit the pipeline to the training data. Remember you can't use the same training data as last time because that data has already been vectorized. We need to pass in just the text and labels**", 
            "metadata": {}
        }, 
        {
            "cell_type": "code", 
            "source": "pipe.fit(X_train, y_train)", 
            "execution_count": 45, 
            "outputs": [
                {
                    "output_type": "execute_result", 
                    "execution_count": 45, 
                    "data": {
                        "text/plain": "Pipeline(steps=[('bow', CountVectorizer(analyzer='word', binary=False, decode_error='strict',\n        dtype=<class 'numpy.int64'>, encoding='utf-8', input='content',\n        lowercase=True, max_df=1.0, max_features=None, min_df=1,\n        ngram_range=(1, 1), preprocessor=None, stop_words=None,\n        strip_...ear_tf=False, use_idf=True)), ('model', MultinomialNB(alpha=1.0, class_prior=None, fit_prior=True))])"
                    }, 
                    "metadata": {}
                }
            ], 
            "metadata": {
                "collapsed": false
            }
        }, 
        {
            "cell_type": "markdown", 
            "source": "### Predictions and Evaluation\n\n** Now use the pipeline to predict from the X_test and create a classification report and confusion matrix. You should notice strange results.**", 
            "metadata": {}
        }, 
        {
            "cell_type": "code", 
            "source": "predictions = pipe.predict(X_test)", 
            "execution_count": 47, 
            "outputs": [], 
            "metadata": {
                "collapsed": false
            }
        }, 
        {
            "cell_type": "code", 
            "source": "print (confusion_matrix(y_test, predictions))\nprint('\\n')\nprint(classification_report(y_test,predictions))", 
            "execution_count": 48, 
            "outputs": [
                {
                    "output_type": "stream", 
                    "text": "[[  0 228]\n [  0 998]]\n\n\n             precision    recall  f1-score   support\n\n          1       0.00      0.00      0.00       228\n          5       0.81      1.00      0.90       998\n\navg / total       0.66      0.81      0.73      1226\n\n", 
                    "name": "stdout"
                }, 
                {
                    "output_type": "stream", 
                    "text": "/usr/local/src/conda3_runtime/4.1.1/lib/python3.5/site-packages/sklearn/metrics/classification.py:1074: UndefinedMetricWarning: Precision and F-score are ill-defined and being set to 0.0 in labels with no predicted samples.\n  'precision', 'predicted', average, warn_for)\n", 
                    "name": "stderr"
                }
            ], 
            "metadata": {
                "collapsed": false
            }
        }, 
        {
            "cell_type": "markdown", 
            "source": "Looks like Tf-Idf actually made things worse! That is it for this project. But there is still a lot more you can play with:\n\n**Some other things to try....**\nTry going back and playing around with the pipeline steps and seeing if creating a custom analyzer like we did in the lecture helps (note: it probably won't). Or recreate the pipeline with just the CountVectorizer() and NaiveBayes. Does changing the ML model at the end to another classifier help at all?", 
            "metadata": {}
        }, 
        {
            "cell_type": "markdown", 
            "source": "# Great Job!", 
            "metadata": {}
        }
    ], 
    "nbformat_minor": 0, 
    "nbformat": 4, 
    "metadata": {
        "kernelspec": {
            "language": "python", 
            "display_name": "Python 3.5 (Experimental) with Spark 1.6", 
            "name": "python3"
        }, 
        "language_info": {
            "pygments_lexer": "ipython3", 
            "mimetype": "text/x-python", 
            "nbconvert_exporter": "python", 
            "name": "python", 
            "file_extension": ".py", 
            "version": "3.5.2", 
            "codemirror_mode": {
                "version": 3, 
                "name": "ipython"
            }
        }
    }
}