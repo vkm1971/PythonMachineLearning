{
    "nbformat": 4, 
    "nbformat_minor": 0, 
    "metadata": {
        "language_info": {
            "version": "3.5.2", 
            "pygments_lexer": "ipython3", 
            "mimetype": "text/x-python", 
            "codemirror_mode": {
                "name": "ipython", 
                "version": 3
            }, 
            "name": "python", 
            "nbconvert_exporter": "python", 
            "file_extension": ".py"
        }, 
        "kernelspec": {
            "language": "python", 
            "name": "python3", 
            "display_name": "Python 3.5 (Experimental) with Spark 1.6"
        }
    }, 
    "cells": [
        {
            "source": "___\n\n<a href='http://www.pieriandata.com'> <img src='../Pierian_Data_Logo.png' /></a>\n___\n# Recommender Systems with Python\n\nWelcome to the code notebook for Recommender Systems with Python. In this lecture we will develop basic recommendation systems using Python and pandas. There is another notebook: *Advanced Recommender Systems with Python*. That notebook goes into more detail with the same data set.\n\nIn this notebook, we will focus on providing a basic recommendation system by suggesting items that are most similar to a particular item, in this case, movies. Keep in mind, this is not a true robust recommendation system, to describe it more accurately,it just tells you what movies/items are most similar to your movie choice.\n\nThere is no project for this topic, instead you have the option to work through the advanced lecture version of this notebook (totally optional!).\n\nLet's get started!\n\n## Import Libraries", 
            "metadata": {}, 
            "cell_type": "markdown"
        }, 
        {
            "source": "import numpy as np\nimport pandas as pd", 
            "execution_count": 43, 
            "outputs": [], 
            "metadata": {
                "collapsed": true
            }, 
            "cell_type": "code"
        }, 
        {
            "source": "## Get the Data", 
            "metadata": {}, 
            "cell_type": "markdown"
        }, 
        {
            "source": "# @hidden_cell\nfrom io import StringIO\nimport requests\nimport json\nimport pandas as pd\n\n# This function accesses a file in your Object Storage. The definition contains your credentials.\n# You might want to remove those credentials before you share your notebook.\ndef get_object_storage_file_with_credentials_19099026f8df40b6aec4353c7e897e95(container, filename):\n    \"\"\"This functions returns a StringIO object containing\n    the file content from Bluemix Object Storage V3.\"\"\"\n\n    url1 = ''.join(['https://identity.open.softlayer.com', '/v3/auth/tokens'])\n    data = {'auth': {'identity': {'methods': ['password'],\n            'password': {'user': {'name': 'member_5c7ca48007cfb646b75667f037d9ca9a469d66ad','domain': {'id': '595d59e0d3fe4089afc692bd55396f11'},\n            'password': 'C_8vk=7&^H1Oa~XJ'}}}}}\n    headers1 = {'Content-Type': 'application/json'}\n    resp1 = requests.post(url=url1, data=json.dumps(data), headers=headers1)\n    resp1_body = resp1.json()\n    for e1 in resp1_body['token']['catalog']:\n        if(e1['type']=='object-store'):\n            for e2 in e1['endpoints']:\n                        if(e2['interface']=='public'and e2['region']=='dallas'):\n                            url2 = ''.join([e2['url'],'/', container, '/', filename])\n    s_subject_token = resp1.headers['x-subject-token']\n    headers2 = {'X-Auth-Token': s_subject_token, 'accept': 'application/json'}\n    resp2 = requests.get(url=url2, headers=headers2)\n    return StringIO(resp2.text)\n\ncolumn_names = ['user_id', 'item_id', 'rating', 'timestamp']\ndf= pd.read_csv(get_object_storage_file_with_credentials_19099026f8df40b6aec4353c7e897e95('PythonMachineLearning', 'u.data.csv'),sep='\\t', names=column_names)\ndf.head()\n", 
            "execution_count": 44, 
            "outputs": [
                {
                    "execution_count": 44, 
                    "data": {
                        "text/plain": "   user_id  item_id  rating  timestamp\n0        0       50       5  881250949\n1        0      172       5  881250949\n2        0      133       1  881250949\n3      196      242       3  881250949\n4      186      302       3  891717742", 
                        "text/html": "<div>\n<table border=\"1\" class=\"dataframe\">\n  <thead>\n    <tr style=\"text-align: right;\">\n      <th></th>\n      <th>user_id</th>\n      <th>item_id</th>\n      <th>rating</th>\n      <th>timestamp</th>\n    </tr>\n  </thead>\n  <tbody>\n    <tr>\n      <th>0</th>\n      <td>0</td>\n      <td>50</td>\n      <td>5</td>\n      <td>881250949</td>\n    </tr>\n    <tr>\n      <th>1</th>\n      <td>0</td>\n      <td>172</td>\n      <td>5</td>\n      <td>881250949</td>\n    </tr>\n    <tr>\n      <th>2</th>\n      <td>0</td>\n      <td>133</td>\n      <td>1</td>\n      <td>881250949</td>\n    </tr>\n    <tr>\n      <th>3</th>\n      <td>196</td>\n      <td>242</td>\n      <td>3</td>\n      <td>881250949</td>\n    </tr>\n    <tr>\n      <th>4</th>\n      <td>186</td>\n      <td>302</td>\n      <td>3</td>\n      <td>891717742</td>\n    </tr>\n  </tbody>\n</table>\n</div>"
                    }, 
                    "output_type": "execute_result", 
                    "metadata": {}
                }
            ], 
            "metadata": {
                "collapsed": false
            }, 
            "cell_type": "code"
        }, 
        {
            "source": "#column_names = ['user_id', 'item_id', 'rating', 'timestamp']\n#df = pd.read_csv('u.data', sep='\\t', names=column_names)", 
            "execution_count": 45, 
            "outputs": [], 
            "metadata": {
                "collapsed": true
            }, 
            "cell_type": "code"
        }, 
        {
            "source": "df.head()", 
            "execution_count": 46, 
            "outputs": [
                {
                    "execution_count": 46, 
                    "data": {
                        "text/plain": "   user_id  item_id  rating  timestamp\n0        0       50       5  881250949\n1        0      172       5  881250949\n2        0      133       1  881250949\n3      196      242       3  881250949\n4      186      302       3  891717742", 
                        "text/html": "<div>\n<table border=\"1\" class=\"dataframe\">\n  <thead>\n    <tr style=\"text-align: right;\">\n      <th></th>\n      <th>user_id</th>\n      <th>item_id</th>\n      <th>rating</th>\n      <th>timestamp</th>\n    </tr>\n  </thead>\n  <tbody>\n    <tr>\n      <th>0</th>\n      <td>0</td>\n      <td>50</td>\n      <td>5</td>\n      <td>881250949</td>\n    </tr>\n    <tr>\n      <th>1</th>\n      <td>0</td>\n      <td>172</td>\n      <td>5</td>\n      <td>881250949</td>\n    </tr>\n    <tr>\n      <th>2</th>\n      <td>0</td>\n      <td>133</td>\n      <td>1</td>\n      <td>881250949</td>\n    </tr>\n    <tr>\n      <th>3</th>\n      <td>196</td>\n      <td>242</td>\n      <td>3</td>\n      <td>881250949</td>\n    </tr>\n    <tr>\n      <th>4</th>\n      <td>186</td>\n      <td>302</td>\n      <td>3</td>\n      <td>891717742</td>\n    </tr>\n  </tbody>\n</table>\n</div>"
                    }, 
                    "output_type": "execute_result", 
                    "metadata": {}
                }
            ], 
            "metadata": {
                "collapsed": false
            }, 
            "cell_type": "code"
        }, 
        {
            "source": "Now let's get the movie titles:", 
            "metadata": {}, 
            "cell_type": "markdown"
        }, 
        {
            "source": "movie_titles = pd.read_csv(get_object_storage_file_with_credentials_19099026f8df40b6aec4353c7e897e95('PythonMachineLearning', 'Movie_Id_Titles.csv'))\nmovie_titles.head()", 
            "execution_count": 47, 
            "outputs": [
                {
                    "execution_count": 47, 
                    "data": {
                        "text/plain": "   item_id              title\n0        1   Toy Story (1995)\n1        2   GoldenEye (1995)\n2        3  Four Rooms (1995)\n3        4  Get Shorty (1995)\n4        5     Copycat (1995)", 
                        "text/html": "<div>\n<table border=\"1\" class=\"dataframe\">\n  <thead>\n    <tr style=\"text-align: right;\">\n      <th></th>\n      <th>item_id</th>\n      <th>title</th>\n    </tr>\n  </thead>\n  <tbody>\n    <tr>\n      <th>0</th>\n      <td>1</td>\n      <td>Toy Story (1995)</td>\n    </tr>\n    <tr>\n      <th>1</th>\n      <td>2</td>\n      <td>GoldenEye (1995)</td>\n    </tr>\n    <tr>\n      <th>2</th>\n      <td>3</td>\n      <td>Four Rooms (1995)</td>\n    </tr>\n    <tr>\n      <th>3</th>\n      <td>4</td>\n      <td>Get Shorty (1995)</td>\n    </tr>\n    <tr>\n      <th>4</th>\n      <td>5</td>\n      <td>Copycat (1995)</td>\n    </tr>\n  </tbody>\n</table>\n</div>"
                    }, 
                    "output_type": "execute_result", 
                    "metadata": {}
                }
            ], 
            "metadata": {
                "collapsed": false
            }, 
            "cell_type": "code"
        }, 
        {
            "source": "#movie_titles = pd.read_csv(\"Movie_Id_Titles\")\n#movie_titles.head()", 
            "execution_count": 48, 
            "outputs": [], 
            "metadata": {
                "collapsed": false
            }, 
            "cell_type": "code"
        }, 
        {
            "source": "We can merge them together:", 
            "metadata": {}, 
            "cell_type": "markdown"
        }, 
        {
            "source": "df = pd.merge(df,movie_titles,on='item_id')\ndf.head()", 
            "execution_count": 49, 
            "outputs": [
                {
                    "execution_count": 49, 
                    "data": {
                        "text/plain": "   user_id  item_id  rating  timestamp             title\n0        0       50       5  881250949  Star Wars (1977)\n1      290       50       5  880473582  Star Wars (1977)\n2       79       50       4  891271545  Star Wars (1977)\n3        2       50       5  888552084  Star Wars (1977)\n4        8       50       5  879362124  Star Wars (1977)", 
                        "text/html": "<div>\n<table border=\"1\" class=\"dataframe\">\n  <thead>\n    <tr style=\"text-align: right;\">\n      <th></th>\n      <th>user_id</th>\n      <th>item_id</th>\n      <th>rating</th>\n      <th>timestamp</th>\n      <th>title</th>\n    </tr>\n  </thead>\n  <tbody>\n    <tr>\n      <th>0</th>\n      <td>0</td>\n      <td>50</td>\n      <td>5</td>\n      <td>881250949</td>\n      <td>Star Wars (1977)</td>\n    </tr>\n    <tr>\n      <th>1</th>\n      <td>290</td>\n      <td>50</td>\n      <td>5</td>\n      <td>880473582</td>\n      <td>Star Wars (1977)</td>\n    </tr>\n    <tr>\n      <th>2</th>\n      <td>79</td>\n      <td>50</td>\n      <td>4</td>\n      <td>891271545</td>\n      <td>Star Wars (1977)</td>\n    </tr>\n    <tr>\n      <th>3</th>\n      <td>2</td>\n      <td>50</td>\n      <td>5</td>\n      <td>888552084</td>\n      <td>Star Wars (1977)</td>\n    </tr>\n    <tr>\n      <th>4</th>\n      <td>8</td>\n      <td>50</td>\n      <td>5</td>\n      <td>879362124</td>\n      <td>Star Wars (1977)</td>\n    </tr>\n  </tbody>\n</table>\n</div>"
                    }, 
                    "output_type": "execute_result", 
                    "metadata": {}
                }
            ], 
            "metadata": {
                "collapsed": false
            }, 
            "cell_type": "code"
        }, 
        {
            "source": "# EDA\n\nLet's explore the data a bit and get a look at some of the best rated movies.\n\n## Visualization Imports", 
            "metadata": {}, 
            "cell_type": "markdown"
        }, 
        {
            "source": "import matplotlib.pyplot as plt\nimport seaborn as sns\nsns.set_style('white')\n%matplotlib inline", 
            "execution_count": 50, 
            "outputs": [], 
            "metadata": {
                "collapsed": false
            }, 
            "cell_type": "code"
        }, 
        {
            "source": "Let's create a ratings dataframe with average rating and number of ratings:", 
            "metadata": {}, 
            "cell_type": "markdown"
        }, 
        {
            "source": "df.groupby('title')['rating'].mean().sort_values(ascending=False).head()", 
            "execution_count": 51, 
            "outputs": [
                {
                    "execution_count": 51, 
                    "data": {
                        "text/plain": "title\nMarlene Dietrich: Shadow and Light (1996)     5.0\nPrefontaine (1997)                            5.0\nSanta with Muscles (1996)                     5.0\nStar Kid (1997)                               5.0\nSomeone Else's America (1995)                 5.0\nName: rating, dtype: float64"
                    }, 
                    "output_type": "execute_result", 
                    "metadata": {}
                }
            ], 
            "metadata": {
                "collapsed": false
            }, 
            "cell_type": "code"
        }, 
        {
            "source": "df.groupby('title')['rating'].count().sort_values(ascending=False).head()", 
            "execution_count": 52, 
            "outputs": [
                {
                    "execution_count": 52, 
                    "data": {
                        "text/plain": "title\nStar Wars (1977)             584\nContact (1997)               509\nFargo (1996)                 508\nReturn of the Jedi (1983)    507\nLiar Liar (1997)             485\nName: rating, dtype: int64"
                    }, 
                    "output_type": "execute_result", 
                    "metadata": {}
                }
            ], 
            "metadata": {
                "collapsed": false
            }, 
            "cell_type": "code"
        }, 
        {
            "source": "ratings = pd.DataFrame(df.groupby('title')['rating'].mean())\nratings.head()", 
            "execution_count": 53, 
            "outputs": [
                {
                    "execution_count": 53, 
                    "data": {
                        "text/plain": "                             rating\ntitle                              \n'Til There Was You (1997)  2.333333\n1-900 (1994)               2.600000\n101 Dalmatians (1996)      2.908257\n12 Angry Men (1957)        4.344000\n187 (1997)                 3.024390", 
                        "text/html": "<div>\n<table border=\"1\" class=\"dataframe\">\n  <thead>\n    <tr style=\"text-align: right;\">\n      <th></th>\n      <th>rating</th>\n    </tr>\n    <tr>\n      <th>title</th>\n      <th></th>\n    </tr>\n  </thead>\n  <tbody>\n    <tr>\n      <th>'Til There Was You (1997)</th>\n      <td>2.333333</td>\n    </tr>\n    <tr>\n      <th>1-900 (1994)</th>\n      <td>2.600000</td>\n    </tr>\n    <tr>\n      <th>101 Dalmatians (1996)</th>\n      <td>2.908257</td>\n    </tr>\n    <tr>\n      <th>12 Angry Men (1957)</th>\n      <td>4.344000</td>\n    </tr>\n    <tr>\n      <th>187 (1997)</th>\n      <td>3.024390</td>\n    </tr>\n  </tbody>\n</table>\n</div>"
                    }, 
                    "output_type": "execute_result", 
                    "metadata": {}
                }
            ], 
            "metadata": {
                "collapsed": false
            }, 
            "cell_type": "code"
        }, 
        {
            "source": "Now set the number of ratings column:", 
            "metadata": {}, 
            "cell_type": "markdown"
        }, 
        {
            "source": "ratings['num of ratings'] = pd.DataFrame(df.groupby('title')['rating'].count())\nratings.head()", 
            "execution_count": 54, 
            "outputs": [
                {
                    "execution_count": 54, 
                    "data": {
                        "text/plain": "                             rating  num of ratings\ntitle                                              \n'Til There Was You (1997)  2.333333               9\n1-900 (1994)               2.600000               5\n101 Dalmatians (1996)      2.908257             109\n12 Angry Men (1957)        4.344000             125\n187 (1997)                 3.024390              41", 
                        "text/html": "<div>\n<table border=\"1\" class=\"dataframe\">\n  <thead>\n    <tr style=\"text-align: right;\">\n      <th></th>\n      <th>rating</th>\n      <th>num of ratings</th>\n    </tr>\n    <tr>\n      <th>title</th>\n      <th></th>\n      <th></th>\n    </tr>\n  </thead>\n  <tbody>\n    <tr>\n      <th>'Til There Was You (1997)</th>\n      <td>2.333333</td>\n      <td>9</td>\n    </tr>\n    <tr>\n      <th>1-900 (1994)</th>\n      <td>2.600000</td>\n      <td>5</td>\n    </tr>\n    <tr>\n      <th>101 Dalmatians (1996)</th>\n      <td>2.908257</td>\n      <td>109</td>\n    </tr>\n    <tr>\n      <th>12 Angry Men (1957)</th>\n      <td>4.344000</td>\n      <td>125</td>\n    </tr>\n    <tr>\n      <th>187 (1997)</th>\n      <td>3.024390</td>\n      <td>41</td>\n    </tr>\n  </tbody>\n</table>\n</div>"
                    }, 
                    "output_type": "execute_result", 
                    "metadata": {}
                }
            ], 
            "metadata": {
                "collapsed": false
            }, 
            "cell_type": "code"
        }, 
        {
            "source": "Now a few histograms:", 
            "metadata": {}, 
            "cell_type": "markdown"
        }, 
        {
            "source": "plt.figure(figsize=(10,4))\nratings['num of ratings'].hist(bins=70)", 
            "execution_count": 55, 
            "outputs": [
                {
                    "execution_count": 55, 
                    "data": {
                        "text/plain": "<matplotlib.axes._subplots.AxesSubplot at 0x7f253b43e5c0>"
                    }, 
                    "output_type": "execute_result", 
                    "metadata": {}
                }, 
                {
                    "data": {
                        "text/plain": "<matplotlib.figure.Figure at 0x7f253b581240>", 
                        "image/png": "[encoded data removed]"
                    }, 
                    "output_type": "display_data", 
                    "metadata": {}
                }
            ], 
            "metadata": {
                "collapsed": false
            }, 
            "cell_type": "code"
        }, 
        {
            "source": "plt.figure(figsize=(10,4))\nratings['rating'].hist(bins=70)", 
            "execution_count": 56, 
            "outputs": [
                {
                    "execution_count": 56, 
                    "data": {
                        "text/plain": "<matplotlib.axes._subplots.AxesSubplot at 0x7f253b2c1518>"
                    }, 
                    "output_type": "execute_result", 
                    "metadata": {}
                }, 
                {
                    "data": {
                        "text/plain": "<matplotlib.figure.Figure at 0x7f253b2c1630>", 
                        "image/png": "[encoded data removed]"
                    }, 
                    "output_type": "display_data", 
                    "metadata": {}
                }
            ], 
            "metadata": {
                "collapsed": false
            }, 
            "cell_type": "code"
        }, 
        {
            "source": "sns.jointplot(x='rating',y='num of ratings',data=ratings,alpha=0.5)", 
            "execution_count": 57, 
            "outputs": [
                {
                    "execution_count": 57, 
                    "data": {
                        "text/plain": "<seaborn.axisgrid.JointGrid at 0x7f253b2cb860>"
                    }, 
                    "output_type": "execute_result", 
                    "metadata": {}
                }, 
                {
                    "data": {
                        "text/plain": "<matplotlib.figure.Figure at 0x7f253b2c1e48>", 
                        "image/png": "[encoded data removed]"
                    }, 
                    "output_type": "display_data", 
                    "metadata": {}
                }
            ], 
            "metadata": {
                "collapsed": false
            }, 
            "cell_type": "code"
        }, 
        {
            "source": "Okay! Now that we have a general idea of what the data looks like, let's move on to creating a simple recommendation system:", 
            "metadata": {}, 
            "cell_type": "markdown"
        }, 
        {
            "source": "## Recommending Similar Movies", 
            "metadata": {}, 
            "cell_type": "markdown"
        }, 
        {
            "source": "Now let's create a matrix that has the user ids on one access and the movie title on another axis. Each cell will then consist of the rating the user gave to that movie. Note there will be a lot of NaN values, because most people have not seen most of the movies.", 
            "metadata": {}, 
            "cell_type": "markdown"
        }, 
        {
            "source": "moviemat = df.pivot_table(index='user_id',columns='title',values='rating')\nmoviemat.head()", 
            "execution_count": 71, 
            "outputs": [
                {
                    "execution_count": 71, 
                    "data": {
                        "text/plain": "title    'Til There Was You (1997)  1-900 (1994)  101 Dalmatians (1996)  \\\nuser_id                                                                   \n0                              NaN           NaN                    NaN   \n1                              NaN           NaN                    2.0   \n2                              NaN           NaN                    NaN   \n3                              NaN           NaN                    NaN   \n4                              NaN           NaN                    NaN   \n\ntitle    12 Angry Men (1957)  187 (1997)  2 Days in the Valley (1996)  \\\nuser_id                                                                 \n0                        NaN         NaN                          NaN   \n1                        5.0         NaN                          NaN   \n2                        NaN         NaN                          NaN   \n3                        NaN         2.0                          NaN   \n4                        NaN         NaN                          NaN   \n\ntitle    20,000 Leagues Under the Sea (1954)  2001: A Space Odyssey (1968)  \\\nuser_id                                                                      \n0                                        NaN                           NaN   \n1                                        3.0                           4.0   \n2                                        NaN                           NaN   \n3                                        NaN                           NaN   \n4                                        NaN                           NaN   \n\ntitle    3 Ninjas: High Noon At Mega Mountain (1998)  39 Steps, The (1935)  \\\nuser_id                                                                      \n0                                                NaN                   NaN   \n1                                                NaN                   NaN   \n2                                                1.0                   NaN   \n3                                                NaN                   NaN   \n4                                                NaN                   NaN   \n\ntitle                   ...                  Yankee Zulu (1994)  \\\nuser_id                 ...                                       \n0                       ...                                 NaN   \n1                       ...                                 NaN   \n2                       ...                                 NaN   \n3                       ...                                 NaN   \n4                       ...                                 NaN   \n\ntitle    Year of the Horse (1997)  You So Crazy (1994)  \\\nuser_id                                                  \n0                             NaN                  NaN   \n1                             NaN                  NaN   \n2                             NaN                  NaN   \n3                             NaN                  NaN   \n4                             NaN                  NaN   \n\ntitle    Young Frankenstein (1974)  Young Guns (1988)  Young Guns II (1990)  \\\nuser_id                                                                       \n0                              NaN                NaN                   NaN   \n1                              5.0                3.0                   NaN   \n2                              NaN                NaN                   NaN   \n3                              NaN                NaN                   NaN   \n4                              NaN                NaN                   NaN   \n\ntitle    Young Poisoner's Handbook, The (1995)  Zeus and Roxanne (1997)  \\\nuser_id                                                                   \n0                                          NaN                      NaN   \n1                                          NaN                      NaN   \n2                                          NaN                      NaN   \n3                                          NaN                      NaN   \n4                                          NaN                      NaN   \n\ntitle    unknown  \u00c1 k\u00f6ldum klaka (Cold Fever) (1994)  \nuser_id                                               \n0            NaN                                 NaN  \n1            4.0                                 NaN  \n2            NaN                                 NaN  \n3            NaN                                 NaN  \n4            NaN                                 NaN  \n\n[5 rows x 1664 columns]", 
                        "text/html": "<div>\n<table border=\"1\" class=\"dataframe\">\n  <thead>\n    <tr style=\"text-align: right;\">\n      <th>title</th>\n      <th>'Til There Was You (1997)</th>\n      <th>1-900 (1994)</th>\n      <th>101 Dalmatians (1996)</th>\n      <th>12 Angry Men (1957)</th>\n      <th>187 (1997)</th>\n      <th>2 Days in the Valley (1996)</th>\n      <th>20,000 Leagues Under the Sea (1954)</th>\n      <th>2001: A Space Odyssey (1968)</th>\n      <th>3 Ninjas: High Noon At Mega Mountain (1998)</th>\n      <th>39 Steps, The (1935)</th>\n      <th>...</th>\n      <th>Yankee Zulu (1994)</th>\n      <th>Year of the Horse (1997)</th>\n      <th>You So Crazy (1994)</th>\n      <th>Young Frankenstein (1974)</th>\n      <th>Young Guns (1988)</th>\n      <th>Young Guns II (1990)</th>\n      <th>Young Poisoner's Handbook, The (1995)</th>\n      <th>Zeus and Roxanne (1997)</th>\n      <th>unknown</th>\n      <th>\u00c1 k\u00f6ldum klaka (Cold Fever) (1994)</th>\n    </tr>\n    <tr>\n      <th>user_id</th>\n      <th></th>\n      <th></th>\n      <th></th>\n      <th></th>\n      <th></th>\n      <th></th>\n      <th></th>\n      <th></th>\n      <th></th>\n      <th></th>\n      <th></th>\n      <th></th>\n      <th></th>\n      <th></th>\n      <th></th>\n      <th></th>\n      <th></th>\n      <th></th>\n      <th></th>\n      <th></th>\n      <th></th>\n    </tr>\n  </thead>\n  <tbody>\n    <tr>\n      <th>0</th>\n      <td>NaN</td>\n      <td>NaN</td>\n      <td>NaN</td>\n      <td>NaN</td>\n      <td>NaN</td>\n      <td>NaN</td>\n      <td>NaN</td>\n      <td>NaN</td>\n      <td>NaN</td>\n      <td>NaN</td>\n      <td>...</td>\n      <td>NaN</td>\n      <td>NaN</td>\n      <td>NaN</td>\n      <td>NaN</td>\n      <td>NaN</td>\n      <td>NaN</td>\n      <td>NaN</td>\n      <td>NaN</td>\n      <td>NaN</td>\n      <td>NaN</td>\n    </tr>\n    <tr>\n      <th>1</th>\n      <td>NaN</td>\n      <td>NaN</td>\n      <td>2.0</td>\n      <td>5.0</td>\n      <td>NaN</td>\n      <td>NaN</td>\n      <td>3.0</td>\n      <td>4.0</td>\n      <td>NaN</td>\n      <td>NaN</td>\n      <td>...</td>\n      <td>NaN</td>\n      <td>NaN</td>\n      <td>NaN</td>\n      <td>5.0</td>\n      <td>3.0</td>\n      <td>NaN</td>\n      <td>NaN</td>\n      <td>NaN</td>\n      <td>4.0</td>\n      <td>NaN</td>\n    </tr>\n    <tr>\n      <th>2</th>\n      <td>NaN</td>\n      <td>NaN</td>\n      <td>NaN</td>\n      <td>NaN</td>\n      <td>NaN</td>\n      <td>NaN</td>\n      <td>NaN</td>\n      <td>NaN</td>\n      <td>1.0</td>\n      <td>NaN</td>\n      <td>...</td>\n      <td>NaN</td>\n      <td>NaN</td>\n      <td>NaN</td>\n      <td>NaN</td>\n      <td>NaN</td>\n      <td>NaN</td>\n      <td>NaN</td>\n      <td>NaN</td>\n      <td>NaN</td>\n      <td>NaN</td>\n    </tr>\n    <tr>\n      <th>3</th>\n      <td>NaN</td>\n      <td>NaN</td>\n      <td>NaN</td>\n      <td>NaN</td>\n      <td>2.0</td>\n      <td>NaN</td>\n      <td>NaN</td>\n      <td>NaN</td>\n      <td>NaN</td>\n      <td>NaN</td>\n      <td>...</td>\n      <td>NaN</td>\n      <td>NaN</td>\n      <td>NaN</td>\n      <td>NaN</td>\n      <td>NaN</td>\n      <td>NaN</td>\n      <td>NaN</td>\n      <td>NaN</td>\n      <td>NaN</td>\n      <td>NaN</td>\n    </tr>\n    <tr>\n      <th>4</th>\n      <td>NaN</td>\n      <td>NaN</td>\n      <td>NaN</td>\n      <td>NaN</td>\n      <td>NaN</td>\n      <td>NaN</td>\n      <td>NaN</td>\n      <td>NaN</td>\n      <td>NaN</td>\n      <td>NaN</td>\n      <td>...</td>\n      <td>NaN</td>\n      <td>NaN</td>\n      <td>NaN</td>\n      <td>NaN</td>\n      <td>NaN</td>\n      <td>NaN</td>\n      <td>NaN</td>\n      <td>NaN</td>\n      <td>NaN</td>\n      <td>NaN</td>\n    </tr>\n  </tbody>\n</table>\n<p>5 rows \u00d7 1664 columns</p>\n</div>"
                    }, 
                    "output_type": "execute_result", 
                    "metadata": {}
                }
            ], 
            "metadata": {
                "collapsed": false
            }, 
            "cell_type": "code"
        }, 
        {
            "source": "Most rated movie:", 
            "metadata": {}, 
            "cell_type": "markdown"
        }, 
        {
            "source": "ratings.sort_values('num of ratings',ascending=False).head(10)", 
            "execution_count": 72, 
            "outputs": [
                {
                    "execution_count": 72, 
                    "data": {
                        "text/plain": "                                 rating  num of ratings\ntitle                                                  \nStar Wars (1977)               4.359589             584\nContact (1997)                 3.803536             509\nFargo (1996)                   4.155512             508\nReturn of the Jedi (1983)      4.007890             507\nLiar Liar (1997)               3.156701             485\nEnglish Patient, The (1996)    3.656965             481\nScream (1996)                  3.441423             478\nToy Story (1995)               3.878319             452\nAir Force One (1997)           3.631090             431\nIndependence Day (ID4) (1996)  3.438228             429", 
                        "text/html": "<div>\n<table border=\"1\" class=\"dataframe\">\n  <thead>\n    <tr style=\"text-align: right;\">\n      <th></th>\n      <th>rating</th>\n      <th>num of ratings</th>\n    </tr>\n    <tr>\n      <th>title</th>\n      <th></th>\n      <th></th>\n    </tr>\n  </thead>\n  <tbody>\n    <tr>\n      <th>Star Wars (1977)</th>\n      <td>4.359589</td>\n      <td>584</td>\n    </tr>\n    <tr>\n      <th>Contact (1997)</th>\n      <td>3.803536</td>\n      <td>509</td>\n    </tr>\n    <tr>\n      <th>Fargo (1996)</th>\n      <td>4.155512</td>\n      <td>508</td>\n    </tr>\n    <tr>\n      <th>Return of the Jedi (1983)</th>\n      <td>4.007890</td>\n      <td>507</td>\n    </tr>\n    <tr>\n      <th>Liar Liar (1997)</th>\n      <td>3.156701</td>\n      <td>485</td>\n    </tr>\n    <tr>\n      <th>English Patient, The (1996)</th>\n      <td>3.656965</td>\n      <td>481</td>\n    </tr>\n    <tr>\n      <th>Scream (1996)</th>\n      <td>3.441423</td>\n      <td>478</td>\n    </tr>\n    <tr>\n      <th>Toy Story (1995)</th>\n      <td>3.878319</td>\n      <td>452</td>\n    </tr>\n    <tr>\n      <th>Air Force One (1997)</th>\n      <td>3.631090</td>\n      <td>431</td>\n    </tr>\n    <tr>\n      <th>Independence Day (ID4) (1996)</th>\n      <td>3.438228</td>\n      <td>429</td>\n    </tr>\n  </tbody>\n</table>\n</div>"
                    }, 
                    "output_type": "execute_result", 
                    "metadata": {}
                }
            ], 
            "metadata": {
                "collapsed": false
            }, 
            "cell_type": "code"
        }, 
        {
            "source": "Let's choose two movies: starwars, a sci-fi movie. And Liar Liar, a comedy.", 
            "metadata": {}, 
            "cell_type": "markdown"
        }, 
        {
            "source": "ratings.head()", 
            "execution_count": 73, 
            "outputs": [
                {
                    "execution_count": 73, 
                    "data": {
                        "text/plain": "                             rating  num of ratings\ntitle                                              \n'Til There Was You (1997)  2.333333               9\n1-900 (1994)               2.600000               5\n101 Dalmatians (1996)      2.908257             109\n12 Angry Men (1957)        4.344000             125\n187 (1997)                 3.024390              41", 
                        "text/html": "<div>\n<table border=\"1\" class=\"dataframe\">\n  <thead>\n    <tr style=\"text-align: right;\">\n      <th></th>\n      <th>rating</th>\n      <th>num of ratings</th>\n    </tr>\n    <tr>\n      <th>title</th>\n      <th></th>\n      <th></th>\n    </tr>\n  </thead>\n  <tbody>\n    <tr>\n      <th>'Til There Was You (1997)</th>\n      <td>2.333333</td>\n      <td>9</td>\n    </tr>\n    <tr>\n      <th>1-900 (1994)</th>\n      <td>2.600000</td>\n      <td>5</td>\n    </tr>\n    <tr>\n      <th>101 Dalmatians (1996)</th>\n      <td>2.908257</td>\n      <td>109</td>\n    </tr>\n    <tr>\n      <th>12 Angry Men (1957)</th>\n      <td>4.344000</td>\n      <td>125</td>\n    </tr>\n    <tr>\n      <th>187 (1997)</th>\n      <td>3.024390</td>\n      <td>41</td>\n    </tr>\n  </tbody>\n</table>\n</div>"
                    }, 
                    "output_type": "execute_result", 
                    "metadata": {}
                }
            ], 
            "metadata": {
                "collapsed": false
            }, 
            "cell_type": "code"
        }, 
        {
            "source": "Now let's grab the user ratings for those two movies:", 
            "metadata": {}, 
            "cell_type": "markdown"
        }, 
        {
            "source": "starwars_user_ratings = moviemat['Star Wars (1977)']\nliarliar_user_ratings = moviemat['Liar Liar (1997)']\nstarwars_user_ratings.head()", 
            "execution_count": 64, 
            "outputs": [
                {
                    "execution_count": 64, 
                    "data": {
                        "text/plain": "user_id\n0    5.0\n1    5.0\n2    5.0\n3    NaN\n4    5.0\nName: Star Wars (1977), dtype: float64"
                    }, 
                    "output_type": "execute_result", 
                    "metadata": {}
                }
            ], 
            "metadata": {
                "collapsed": false
            }, 
            "cell_type": "code"
        }, 
        {
            "source": "We can then use corrwith() method to get correlations between two pandas series:", 
            "metadata": {}, 
            "cell_type": "markdown"
        }, 
        {
            "source": "similar_to_starwars = moviemat.corrwith(starwars_user_ratings)\nsimilar_to_liarliar = moviemat.corrwith(liarliar_user_ratings)\n\nsimilar_to_starwars.head()", 
            "execution_count": 75, 
            "outputs": [
                {
                    "output_type": "stream", 
                    "name": "stderr", 
                    "text": "/usr/local/src/conda3_runtime/4.1.1/lib/python3.5/site-packages/numpy/lib/function_base.py:2487: RuntimeWarning: Degrees of freedom <= 0 for slice\n  warnings.warn(\"Degrees of freedom <= 0 for slice\", RuntimeWarning)\n"
                }, 
                {
                    "execution_count": 75, 
                    "data": {
                        "text/plain": "title\n'Til There Was You (1997)    0.872872\n1-900 (1994)                -0.645497\n101 Dalmatians (1996)        0.211132\n12 Angry Men (1957)          0.184289\n187 (1997)                   0.027398\ndtype: float64"
                    }, 
                    "output_type": "execute_result", 
                    "metadata": {}
                }
            ], 
            "metadata": {
                "collapsed": false
            }, 
            "cell_type": "code"
        }, 
        {
            "source": "Let's clean this by removing NaN values and using a DataFrame instead of a series:", 
            "metadata": {}, 
            "cell_type": "markdown"
        }, 
        {
            "source": "corr_starwars = pd.DataFrame(similar_to_starwars,columns=['Correlation'])\ncorr_starwars.dropna(inplace=True)\ncorr_starwars.head()", 
            "execution_count": 78, 
            "outputs": [
                {
                    "execution_count": 78, 
                    "data": {
                        "text/plain": "                           Correlation\ntitle                                 \n'Til There Was You (1997)     0.872872\n1-900 (1994)                 -0.645497\n101 Dalmatians (1996)         0.211132\n12 Angry Men (1957)           0.184289\n187 (1997)                    0.027398", 
                        "text/html": "<div>\n<table border=\"1\" class=\"dataframe\">\n  <thead>\n    <tr style=\"text-align: right;\">\n      <th></th>\n      <th>Correlation</th>\n    </tr>\n    <tr>\n      <th>title</th>\n      <th></th>\n    </tr>\n  </thead>\n  <tbody>\n    <tr>\n      <th>'Til There Was You (1997)</th>\n      <td>0.872872</td>\n    </tr>\n    <tr>\n      <th>1-900 (1994)</th>\n      <td>-0.645497</td>\n    </tr>\n    <tr>\n      <th>101 Dalmatians (1996)</th>\n      <td>0.211132</td>\n    </tr>\n    <tr>\n      <th>12 Angry Men (1957)</th>\n      <td>0.184289</td>\n    </tr>\n    <tr>\n      <th>187 (1997)</th>\n      <td>0.027398</td>\n    </tr>\n  </tbody>\n</table>\n</div>"
                    }, 
                    "output_type": "execute_result", 
                    "metadata": {}
                }
            ], 
            "metadata": {
                "collapsed": false
            }, 
            "cell_type": "code"
        }, 
        {
            "source": "Now if we sort the dataframe by correlation, we should get the most similar movies, however note that we get some results that don't really make sense. This is because there are a lot of movies only watched once by users who also watched star wars (it was the most popular movie). ", 
            "metadata": {}, 
            "cell_type": "markdown"
        }, 
        {
            "source": "corr_starwars.sort_values('Correlation',ascending=False).head(10)", 
            "execution_count": 79, 
            "outputs": [
                {
                    "execution_count": 79, 
                    "data": {
                        "text/plain": "                                                    Correlation\ntitle                                                          \nCommandments (1997)                                         1.0\nCosi (1996)                                                 1.0\nNo Escape (1994)                                            1.0\nStripes (1981)                                              1.0\nMan of the Year (1995)                                      1.0\nHollow Reed (1996)                                          1.0\nBeans of Egypt, Maine, The (1994)                           1.0\nGood Man in Africa, A (1994)                                1.0\nOld Lady Who Walked in the Sea, The (Vieille qu...          1.0\nOutlaw, The (1943)                                          1.0", 
                        "text/html": "<div>\n<table border=\"1\" class=\"dataframe\">\n  <thead>\n    <tr style=\"text-align: right;\">\n      <th></th>\n      <th>Correlation</th>\n    </tr>\n    <tr>\n      <th>title</th>\n      <th></th>\n    </tr>\n  </thead>\n  <tbody>\n    <tr>\n      <th>Commandments (1997)</th>\n      <td>1.0</td>\n    </tr>\n    <tr>\n      <th>Cosi (1996)</th>\n      <td>1.0</td>\n    </tr>\n    <tr>\n      <th>No Escape (1994)</th>\n      <td>1.0</td>\n    </tr>\n    <tr>\n      <th>Stripes (1981)</th>\n      <td>1.0</td>\n    </tr>\n    <tr>\n      <th>Man of the Year (1995)</th>\n      <td>1.0</td>\n    </tr>\n    <tr>\n      <th>Hollow Reed (1996)</th>\n      <td>1.0</td>\n    </tr>\n    <tr>\n      <th>Beans of Egypt, Maine, The (1994)</th>\n      <td>1.0</td>\n    </tr>\n    <tr>\n      <th>Good Man in Africa, A (1994)</th>\n      <td>1.0</td>\n    </tr>\n    <tr>\n      <th>Old Lady Who Walked in the Sea, The (Vieille qui marchait dans la mer, La) (1991)</th>\n      <td>1.0</td>\n    </tr>\n    <tr>\n      <th>Outlaw, The (1943)</th>\n      <td>1.0</td>\n    </tr>\n  </tbody>\n</table>\n</div>"
                    }, 
                    "output_type": "execute_result", 
                    "metadata": {}
                }
            ], 
            "metadata": {
                "collapsed": false
            }, 
            "cell_type": "code"
        }, 
        {
            "source": "Let's fix this by filtering out movies that have less than 100 reviews (this value was chosen based off the histogram from earlier).", 
            "metadata": {}, 
            "cell_type": "markdown"
        }, 
        {
            "source": "corr_starwars = corr_starwars.join(ratings['num of ratings'])\ncorr_starwars.head()", 
            "execution_count": 81, 
            "outputs": [
                {
                    "execution_count": 81, 
                    "data": {
                        "text/plain": "                           Correlation  num of ratings\ntitle                                                 \n'Til There Was You (1997)     0.872872               9\n1-900 (1994)                 -0.645497               5\n101 Dalmatians (1996)         0.211132             109\n12 Angry Men (1957)           0.184289             125\n187 (1997)                    0.027398              41", 
                        "text/html": "<div>\n<table border=\"1\" class=\"dataframe\">\n  <thead>\n    <tr style=\"text-align: right;\">\n      <th></th>\n      <th>Correlation</th>\n      <th>num of ratings</th>\n    </tr>\n    <tr>\n      <th>title</th>\n      <th></th>\n      <th></th>\n    </tr>\n  </thead>\n  <tbody>\n    <tr>\n      <th>'Til There Was You (1997)</th>\n      <td>0.872872</td>\n      <td>9</td>\n    </tr>\n    <tr>\n      <th>1-900 (1994)</th>\n      <td>-0.645497</td>\n      <td>5</td>\n    </tr>\n    <tr>\n      <th>101 Dalmatians (1996)</th>\n      <td>0.211132</td>\n      <td>109</td>\n    </tr>\n    <tr>\n      <th>12 Angry Men (1957)</th>\n      <td>0.184289</td>\n      <td>125</td>\n    </tr>\n    <tr>\n      <th>187 (1997)</th>\n      <td>0.027398</td>\n      <td>41</td>\n    </tr>\n  </tbody>\n</table>\n</div>"
                    }, 
                    "output_type": "execute_result", 
                    "metadata": {}
                }
            ], 
            "metadata": {
                "collapsed": false
            }, 
            "cell_type": "code"
        }, 
        {
            "source": "Now sort the values and notice how the titles make a lot more sense:", 
            "metadata": {}, 
            "cell_type": "markdown"
        }, 
        {
            "source": "corr_starwars[corr_starwars['num of ratings']>100].sort_values('Correlation',ascending=False).head()", 
            "execution_count": 82, 
            "outputs": [
                {
                    "execution_count": 82, 
                    "data": {
                        "text/plain": "                                                    Correlation  \\\ntitle                                                             \nStar Wars (1977)                                       1.000000   \nEmpire Strikes Back, The (1980)                        0.748353   \nReturn of the Jedi (1983)                              0.672556   \nRaiders of the Lost Ark (1981)                         0.536117   \nAustin Powers: International Man of Mystery (1997)     0.377433   \n\n                                                    num of ratings  \ntitle                                                               \nStar Wars (1977)                                               584  \nEmpire Strikes Back, The (1980)                                368  \nReturn of the Jedi (1983)                                      507  \nRaiders of the Lost Ark (1981)                                 420  \nAustin Powers: International Man of Mystery (1997)             130  ", 
                        "text/html": "<div>\n<table border=\"1\" class=\"dataframe\">\n  <thead>\n    <tr style=\"text-align: right;\">\n      <th></th>\n      <th>Correlation</th>\n      <th>num of ratings</th>\n    </tr>\n    <tr>\n      <th>title</th>\n      <th></th>\n      <th></th>\n    </tr>\n  </thead>\n  <tbody>\n    <tr>\n      <th>Star Wars (1977)</th>\n      <td>1.000000</td>\n      <td>584</td>\n    </tr>\n    <tr>\n      <th>Empire Strikes Back, The (1980)</th>\n      <td>0.748353</td>\n      <td>368</td>\n    </tr>\n    <tr>\n      <th>Return of the Jedi (1983)</th>\n      <td>0.672556</td>\n      <td>507</td>\n    </tr>\n    <tr>\n      <th>Raiders of the Lost Ark (1981)</th>\n      <td>0.536117</td>\n      <td>420</td>\n    </tr>\n    <tr>\n      <th>Austin Powers: International Man of Mystery (1997)</th>\n      <td>0.377433</td>\n      <td>130</td>\n    </tr>\n  </tbody>\n</table>\n</div>"
                    }, 
                    "output_type": "execute_result", 
                    "metadata": {}
                }
            ], 
            "metadata": {
                "collapsed": false
            }, 
            "cell_type": "code"
        }, 
        {
            "source": "Now the same for the comedy Liar Liar:", 
            "metadata": {}, 
            "cell_type": "markdown"
        }, 
        {
            "source": "corr_liarliar = pd.DataFrame(similar_to_liarliar,columns=['Correlation'])\ncorr_liarliar.dropna(inplace=True)\ncorr_liarliar = corr_liarliar.join(ratings['num of ratings'])\ncorr_liarliar[corr_liarliar['num of ratings']>100].sort_values('Correlation',ascending=False).head()", 
            "execution_count": 83, 
            "outputs": [
                {
                    "execution_count": 83, 
                    "data": {
                        "text/plain": "                       Correlation  num of ratings\ntitle                                             \nLiar Liar (1997)          1.000000             485\nBatman Forever (1995)     0.516968             114\nMask, The (1994)          0.484650             129\nDown Periscope (1996)     0.472681             101\nCon Air (1997)            0.469828             137", 
                        "text/html": "<div>\n<table border=\"1\" class=\"dataframe\">\n  <thead>\n    <tr style=\"text-align: right;\">\n      <th></th>\n      <th>Correlation</th>\n      <th>num of ratings</th>\n    </tr>\n    <tr>\n      <th>title</th>\n      <th></th>\n      <th></th>\n    </tr>\n  </thead>\n  <tbody>\n    <tr>\n      <th>Liar Liar (1997)</th>\n      <td>1.000000</td>\n      <td>485</td>\n    </tr>\n    <tr>\n      <th>Batman Forever (1995)</th>\n      <td>0.516968</td>\n      <td>114</td>\n    </tr>\n    <tr>\n      <th>Mask, The (1994)</th>\n      <td>0.484650</td>\n      <td>129</td>\n    </tr>\n    <tr>\n      <th>Down Periscope (1996)</th>\n      <td>0.472681</td>\n      <td>101</td>\n    </tr>\n    <tr>\n      <th>Con Air (1997)</th>\n      <td>0.469828</td>\n      <td>137</td>\n    </tr>\n  </tbody>\n</table>\n</div>"
                    }, 
                    "output_type": "execute_result", 
                    "metadata": {}
                }
            ], 
            "metadata": {
                "collapsed": false
            }, 
            "cell_type": "code"
        }, 
        {
            "source": "# Great Job!", 
            "metadata": {}, 
            "cell_type": "markdown"
        }
    ]
}