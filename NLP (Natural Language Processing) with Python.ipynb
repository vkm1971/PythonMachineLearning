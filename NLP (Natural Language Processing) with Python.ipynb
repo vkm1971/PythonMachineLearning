{
    "nbformat_minor": 0, 
    "cells": [
        {
            "source": "___\n\n<a href='http://www.pieriandata.com'> <img src='../Pierian_Data_Logo.png' /></a>\n___\n# NLP (Natural Language Processing) with Python\n\nThis is the notebook that goes along with the NLP video lecture!\n\nIn this lecture we will discuss a higher level overview of the basics of Natural Language Processing, which basically consists of combining machine learning techniques with text, and using math and statistics to get that text in a format that the machine learning algorithms can understand!\n\nOnce you've completed this lecture you'll have a project using some Yelp Text Data!\n    \n**Requirements: You will need to have NLTK installed, along with downloading the corpus for stopwords. To download everything with a conda installation, run the cell below. Or reference the full video lecture**", 
            "cell_type": "markdown", 
            "metadata": {}
        }, 
        {
            "outputs": [], 
            "source": "# ONLY RUN THIS CELL IF YOU NEED \n# TO DOWNLOAD NLTK AND HAVE CONDA\n# WATCH THE VIDEO FOR FULL INSTRUCTIONS ON THIS STEP\n\n# Uncomment the code below and run:\n\n\n# !conda install nltk #This installs nltk\n# import nltk # Imports the library\n# nltk.download() #Download the necessary datasets", 
            "execution_count": 1, 
            "cell_type": "code", 
            "metadata": {
                "collapsed": true
            }
        }, 
        {
            "source": "## Get the Data", 
            "cell_type": "markdown", 
            "metadata": {}
        }, 
        {
            "source": "We'll be using a dataset from the [UCI datasets](https://archive.ics.uci.edu/ml/datasets/SMS+Spam+Collection)! This dataset is already located in the folder for this section.", 
            "cell_type": "markdown", 
            "metadata": {}
        }, 
        {
            "source": "The file we are using contains a collection of more than 5 thousand SMS phone messages. You can check out the **readme** file for more info.\n\nLet's go ahead and use rstrip() plus a list comprehension to get a list of all the lines of text messages:", 
            "cell_type": "markdown", 
            "metadata": {}
        }, 
        {
            "outputs": [], 
            "source": "# @hidden_cell\nfrom io import StringIO\nimport requests\nimport json\nimport pandas as pd\n\n# This function accesses a file in your Object Storage. The definition contains your credentials.\n# You might want to remove those credentials before you share your notebook.\ndef get_object_storage_file_with_credentials_19099026f8df40b6aec4353c7e897e95(container, filename):\n    \"\"\"This functions returns a StringIO object containing\n    the file content from Bluemix Object Storage V3.\"\"\"\n\n    url1 = ''.join(['https://identity.open.softlayer.com', '/v3/auth/tokens'])\n    data = {'auth': {'identity': {'methods': ['password'],\n            'password': {'user': {'name': 'member_5c7ca48007cfb646b75667f037d9ca9a469d66ad','domain': {'id': '595d59e0d3fe4089afc692bd55396f11'},\n            'password': 'C_8vk=7&^H1Oa~XJ'}}}}}\n    headers1 = {'Content-Type': 'application/json'}\n    resp1 = requests.post(url=url1, data=json.dumps(data), headers=headers1)\n    resp1_body = resp1.json()\n    for e1 in resp1_body['token']['catalog']:\n        if(e1['type']=='object-store'):\n            for e2 in e1['endpoints']:\n                        if(e2['interface']=='public'and e2['region']=='dallas'):\n                            url2 = ''.join([e2['url'],'/', container, '/', filename])\n    s_subject_token = resp1.headers['x-subject-token']\n    headers2 = {'X-Auth-Token': s_subject_token, 'accept': 'application/json'}\n    resp2 = requests.get(url=url2, headers=headers2)\n    return StringIO(resp2.text)", 
            "execution_count": 2, 
            "cell_type": "code", 
            "metadata": {
                "collapsed": false
            }
        }, 
        {
            "outputs": [
                {
                    "data": {
                        "text/html": "<div>\n<table border=\"1\" class=\"dataframe\">\n  <thead>\n    <tr style=\"text-align: right;\">\n      <th></th>\n      <th>0</th>\n      <th>1</th>\n    </tr>\n  </thead>\n  <tbody>\n    <tr>\n      <th>0</th>\n      <td>ham</td>\n      <td>Go until jurong point, crazy.. Available only ...</td>\n    </tr>\n    <tr>\n      <th>1</th>\n      <td>ham</td>\n      <td>Ok lar... Joking wif u oni...</td>\n    </tr>\n    <tr>\n      <th>2</th>\n      <td>spam</td>\n      <td>Free entry in 2 a wkly comp to win FA Cup fina...</td>\n    </tr>\n    <tr>\n      <th>3</th>\n      <td>ham</td>\n      <td>U dun say so early hor... U c already then say...</td>\n    </tr>\n    <tr>\n      <th>4</th>\n      <td>ham</td>\n      <td>Nah I don't think he goes to usf, he lives aro...</td>\n    </tr>\n  </tbody>\n</table>\n</div>", 
                        "text/plain": "      0                                                  1\n0   ham  Go until jurong point, crazy.. Available only ...\n1   ham                      Ok lar... Joking wif u oni...\n2  spam  Free entry in 2 a wkly comp to win FA Cup fina...\n3   ham  U dun say so early hor... U c already then say...\n4   ham  Nah I don't think he goes to usf, he lives aro..."
                    }, 
                    "output_type": "execute_result", 
                    "execution_count": 3, 
                    "metadata": {}
                }
            ], 
            "source": "# messages = [line.rstrip() for line in open('smsspamcollection/SMSSpamCollection')]\n# print(len(messages))\n\n\ndf_data_1 = pd.read_table(get_object_storage_file_with_credentials_19099026f8df40b6aec4353c7e897e95('PythonMachineLearning', 'SMSSpamCollection.csv'), header=None)\ndf_data_1.head()", 
            "execution_count": 3, 
            "cell_type": "code", 
            "metadata": {
                "collapsed": false
            }
        }, 
        {
            "source": "A collection of texts is also sometimes called \"corpus\". Let's print the first ten messages and number them using **enumerate**:", 
            "cell_type": "markdown", 
            "metadata": {}
        }, 
        {
            "outputs": [], 
            "source": "#for message_no, message in enumerate(messages[:10]):\n#    print(message_no, message)\n#   print('\\n')", 
            "execution_count": 10, 
            "cell_type": "code", 
            "metadata": {
                "collapsed": false
            }
        }, 
        {
            "source": "Due to the spacing we can tell that this is a [TSV](http://en.wikipedia.org/wiki/Tab-separated_values) (\"tab separated values\") file, where the first column is a label saying whether the given message is a normal message (commonly known as \"ham\") or \"spam\". The second column is the message itself. (Note our numbers aren't part of the file, they are just from the **enumerate** call).\n\nUsing these labeled ham and spam examples, we'll **train a machine learning model to learn to discriminate between ham/spam automatically**. Then, with a trained model, we'll be able to **classify arbitrary unlabeled messages** as ham or spam.\n\nFrom the official SciKit Learn documentation, we can visualize our process:", 
            "cell_type": "markdown", 
            "metadata": {}
        }, 
        {
            "source": "<img src='http://www.astroml.org/sklearn_tutorial/_images/plot_ML_flow_chart_3.png' width=600/>", 
            "cell_type": "markdown", 
            "metadata": {}
        }, 
        {
            "source": "Instead of parsing TSV manually using Python, we can just take advantage of pandas! Let's go ahead and import it!", 
            "cell_type": "markdown", 
            "metadata": {}
        }, 
        {
            "outputs": [], 
            "source": "import pandas as pd", 
            "execution_count": 4, 
            "cell_type": "code", 
            "metadata": {
                "collapsed": true
            }
        }, 
        {
            "source": "We'll use **read_csv** and make note of the **sep** argument, we can also specify the desired column names by passing in a list of *names*.", 
            "cell_type": "markdown", 
            "metadata": {}
        }, 
        {
            "outputs": [
                {
                    "data": {
                        "text/html": "<div>\n<table border=\"1\" class=\"dataframe\">\n  <thead>\n    <tr style=\"text-align: right;\">\n      <th></th>\n      <th>label</th>\n      <th>message</th>\n    </tr>\n  </thead>\n  <tbody>\n    <tr>\n      <th>0</th>\n      <td>ham</td>\n      <td>Go until jurong point, crazy.. Available only ...</td>\n    </tr>\n    <tr>\n      <th>1</th>\n      <td>ham</td>\n      <td>Ok lar... Joking wif u oni...</td>\n    </tr>\n    <tr>\n      <th>2</th>\n      <td>spam</td>\n      <td>Free entry in 2 a wkly comp to win FA Cup fina...</td>\n    </tr>\n    <tr>\n      <th>3</th>\n      <td>ham</td>\n      <td>U dun say so early hor... U c already then say...</td>\n    </tr>\n    <tr>\n      <th>4</th>\n      <td>ham</td>\n      <td>Nah I don't think he goes to usf, he lives aro...</td>\n    </tr>\n  </tbody>\n</table>\n</div>", 
                        "text/plain": "  label                                            message\n0   ham  Go until jurong point, crazy.. Available only ...\n1   ham                      Ok lar... Joking wif u oni...\n2  spam  Free entry in 2 a wkly comp to win FA Cup fina...\n3   ham  U dun say so early hor... U c already then say...\n4   ham  Nah I don't think he goes to usf, he lives aro..."
                    }, 
                    "output_type": "execute_result", 
                    "execution_count": 5, 
                    "metadata": {}
                }
            ], 
            "source": "#messages = pd.read_csv('smsspamcollection/SMSSpamCollection', sep='\\t', names=[\"label\", \"message\"])\n\nmessages = pd.read_csv(get_object_storage_file_with_credentials_19099026f8df40b6aec4353c7e897e95('PythonMachineLearning', 'SMSSpamCollection.csv'), sep='\\t', names=[\"label\", \"message\"])\nmessages.head()", 
            "execution_count": 5, 
            "cell_type": "code", 
            "metadata": {
                "collapsed": false
            }
        }, 
        {
            "source": "## Exploratory Data Analysis\n\nLet's check out some of the stats with some plots and the built-in methods in pandas!", 
            "cell_type": "markdown", 
            "metadata": {}
        }, 
        {
            "outputs": [
                {
                    "data": {
                        "text/html": "<div>\n<table border=\"1\" class=\"dataframe\">\n  <thead>\n    <tr style=\"text-align: right;\">\n      <th></th>\n      <th>label</th>\n      <th>message</th>\n    </tr>\n  </thead>\n  <tbody>\n    <tr>\n      <th>count</th>\n      <td>5572</td>\n      <td>5572</td>\n    </tr>\n    <tr>\n      <th>unique</th>\n      <td>2</td>\n      <td>5169</td>\n    </tr>\n    <tr>\n      <th>top</th>\n      <td>ham</td>\n      <td>Sorry, I'll call later</td>\n    </tr>\n    <tr>\n      <th>freq</th>\n      <td>4825</td>\n      <td>30</td>\n    </tr>\n  </tbody>\n</table>\n</div>", 
                        "text/plain": "       label                 message\ncount   5572                    5572\nunique     2                    5169\ntop      ham  Sorry, I'll call later\nfreq    4825                      30"
                    }, 
                    "output_type": "execute_result", 
                    "execution_count": 6, 
                    "metadata": {}
                }
            ], 
            "source": "messages.describe()", 
            "execution_count": 6, 
            "cell_type": "code", 
            "metadata": {
                "collapsed": false
            }
        }, 
        {
            "source": "Let's use **groupby** to use describe by label, this way we can begin to think about the features that separate ham and spam!", 
            "cell_type": "markdown", 
            "metadata": {}
        }, 
        {
            "outputs": [
                {
                    "data": {
                        "text/html": "<div>\n<table border=\"1\" class=\"dataframe\">\n  <thead>\n    <tr style=\"text-align: right;\">\n      <th></th>\n      <th></th>\n      <th>message</th>\n    </tr>\n    <tr>\n      <th>label</th>\n      <th></th>\n      <th></th>\n    </tr>\n  </thead>\n  <tbody>\n    <tr>\n      <th rowspan=\"4\" valign=\"top\">ham</th>\n      <th>count</th>\n      <td>4825</td>\n    </tr>\n    <tr>\n      <th>unique</th>\n      <td>4516</td>\n    </tr>\n    <tr>\n      <th>top</th>\n      <td>Sorry, I'll call later</td>\n    </tr>\n    <tr>\n      <th>freq</th>\n      <td>30</td>\n    </tr>\n    <tr>\n      <th rowspan=\"4\" valign=\"top\">spam</th>\n      <th>count</th>\n      <td>747</td>\n    </tr>\n    <tr>\n      <th>unique</th>\n      <td>653</td>\n    </tr>\n    <tr>\n      <th>top</th>\n      <td>Please call our customer service representativ...</td>\n    </tr>\n    <tr>\n      <th>freq</th>\n      <td>4</td>\n    </tr>\n  </tbody>\n</table>\n</div>", 
                        "text/plain": "                                                        message\nlabel                                                          \nham   count                                                4825\n      unique                                               4516\n      top                                Sorry, I'll call later\n      freq                                                   30\nspam  count                                                 747\n      unique                                                653\n      top     Please call our customer service representativ...\n      freq                                                    4"
                    }, 
                    "output_type": "execute_result", 
                    "execution_count": 7, 
                    "metadata": {}
                }
            ], 
            "source": "messages.groupby('label').describe()", 
            "execution_count": 7, 
            "cell_type": "code", 
            "metadata": {
                "collapsed": false
            }
        }, 
        {
            "source": "As we continue our analysis we want to start thinking about the features we are going to be using. This goes along with the general idea of [feature engineering](https://en.wikipedia.org/wiki/Feature_engineering). The better your domain knowledge on the data, the better your ability to engineer more features from it. Feature engineering is a very large part of spam detection in general. I encourage you to read up on the topic!\n\nLet's make a new column to detect how long the text messages are:", 
            "cell_type": "markdown", 
            "metadata": {}
        }, 
        {
            "outputs": [
                {
                    "data": {
                        "text/html": "<div>\n<table border=\"1\" class=\"dataframe\">\n  <thead>\n    <tr style=\"text-align: right;\">\n      <th></th>\n      <th>label</th>\n      <th>message</th>\n      <th>length</th>\n    </tr>\n  </thead>\n  <tbody>\n    <tr>\n      <th>0</th>\n      <td>ham</td>\n      <td>Go until jurong point, crazy.. Available only ...</td>\n      <td>111</td>\n    </tr>\n    <tr>\n      <th>1</th>\n      <td>ham</td>\n      <td>Ok lar... Joking wif u oni...</td>\n      <td>29</td>\n    </tr>\n    <tr>\n      <th>2</th>\n      <td>spam</td>\n      <td>Free entry in 2 a wkly comp to win FA Cup fina...</td>\n      <td>155</td>\n    </tr>\n    <tr>\n      <th>3</th>\n      <td>ham</td>\n      <td>U dun say so early hor... U c already then say...</td>\n      <td>49</td>\n    </tr>\n    <tr>\n      <th>4</th>\n      <td>ham</td>\n      <td>Nah I don't think he goes to usf, he lives aro...</td>\n      <td>61</td>\n    </tr>\n  </tbody>\n</table>\n</div>", 
                        "text/plain": "  label                                            message  length\n0   ham  Go until jurong point, crazy.. Available only ...     111\n1   ham                      Ok lar... Joking wif u oni...      29\n2  spam  Free entry in 2 a wkly comp to win FA Cup fina...     155\n3   ham  U dun say so early hor... U c already then say...      49\n4   ham  Nah I don't think he goes to usf, he lives aro...      61"
                    }, 
                    "output_type": "execute_result", 
                    "execution_count": 12, 
                    "metadata": {}
                }
            ], 
            "source": "messages['length'] = messages['message'].apply(len)\nmessages.head()", 
            "execution_count": 12, 
            "cell_type": "code", 
            "metadata": {
                "collapsed": false
            }
        }, 
        {
            "source": "### Data Visualization\nLet's visualize this! Let's do the imports:", 
            "cell_type": "markdown", 
            "metadata": {}
        }, 
        {
            "outputs": [], 
            "source": "import matplotlib.pyplot as plt\nimport seaborn as sns\n\n%matplotlib inline", 
            "execution_count": 13, 
            "cell_type": "code", 
            "metadata": {
                "collapsed": false
            }
        }, 
        {
            "outputs": [
                {
                    "data": {
                        "text/plain": "<matplotlib.axes._subplots.AxesSubplot at 0x7fa29cdf51d0>"
                    }, 
                    "output_type": "execute_result", 
                    "execution_count": 14, 
                    "metadata": {}
                }, 
                {
                    "data": {
                        "image/png": "[encoded data removed]", 
                        "text/plain": "<matplotlib.figure.Figure at 0x7fa29f375080>"
                    }, 
                    "output_type": "display_data", 
                    "metadata": {}
                }
            ], 
            "source": "messages['length'].plot(bins=50, kind='hist') ", 
            "execution_count": 14, 
            "cell_type": "code", 
            "metadata": {
                "collapsed": false
            }
        }, 
        {
            "source": "Play around with the bin size! Looks like text length may be a good feature to think about! Let's try to explain why the x-axis goes all the way to 1000ish, this must mean that there is some really long message!", 
            "cell_type": "markdown", 
            "metadata": {}
        }, 
        {
            "outputs": [
                {
                    "data": {
                        "text/plain": "count    5572.000000\nmean       80.489950\nstd        59.942907\nmin         2.000000\n25%        36.000000\n50%        62.000000\n75%       122.000000\nmax       910.000000\nName: length, dtype: float64"
                    }, 
                    "output_type": "execute_result", 
                    "execution_count": 18, 
                    "metadata": {}
                }
            ], 
            "source": "messages.length.describe()", 
            "execution_count": 18, 
            "cell_type": "code", 
            "metadata": {
                "collapsed": false
            }
        }, 
        {
            "source": "Woah! 910 characters, let's use masking to find this message:", 
            "cell_type": "markdown", 
            "metadata": {}
        }, 
        {
            "outputs": [
                {
                    "data": {
                        "text/plain": "\"For me the love should start with attraction.i should feel that I need her every time around me.she should be the first thing which comes in my thoughts.I would start the day and end it with her.she should be there every time I dream.love will be then when my every breath has her name.my life should happen around her.my life will be named to her.I would cry for her.will give all my happiness and take all her sorrows.I will be ready to fight with anyone for her.I will be in love when I will be doing the craziest things for her.love will be when I don't have to proove anyone that my girl is the most beautiful lady on the whole planet.I will always be singing praises for her.love will be when I start up making chicken curry and end up makiing sambar.life will be the most beautiful then.will get every morning and thank god for the day because she is with me.I would like to say a lot..will tell later..\""
                    }, 
                    "output_type": "execute_result", 
                    "execution_count": 18, 
                    "metadata": {}
                }
            ], 
            "source": "messages[messages['length'] == 910]['message'].iloc[0]", 
            "execution_count": 18, 
            "cell_type": "code", 
            "metadata": {
                "collapsed": false
            }
        }, 
        {
            "source": "Looks like we have some sort of Romeo sending texts! But let's focus back on the idea of trying to see if message length is a distinguishing feature between ham and spam:", 
            "cell_type": "markdown", 
            "metadata": {}
        }, 
        {
            "outputs": [
                {
                    "data": {
                        "text/plain": "array([<matplotlib.axes._subplots.AxesSubplot object at 0x7f9dfa4e9a58>,\n       <matplotlib.axes._subplots.AxesSubplot object at 0x7f9e110f9f28>], dtype=object)"
                    }, 
                    "output_type": "execute_result", 
                    "execution_count": 20, 
                    "metadata": {}
                }, 
                {
                    "data": {
                        "image/png": "[encoded data removed]", 
                        "text/plain": "<matplotlib.figure.Figure at 0x7f9e1074b160>"
                    }, 
                    "output_type": "display_data", 
                    "metadata": {}
                }
            ], 
            "source": "messages.hist(column='length', by='label', bins=50,figsize=(12,4))", 
            "execution_count": 20, 
            "cell_type": "code", 
            "metadata": {
                "collapsed": false
            }
        }, 
        {
            "source": "Very interesting! Through just basic EDA we've been able to discover a trend that spam messages tend to have more characters. (Sorry Romeo!)\n\nNow let's begin to process the data so we can eventually use it with SciKit Learn!", 
            "cell_type": "markdown", 
            "metadata": {}
        }, 
        {
            "source": "## Text Pre-processing", 
            "cell_type": "markdown", 
            "metadata": {}
        }, 
        {
            "source": "Our main issue with our data is that it is all in text format (strings). The classification algorithms that we've learned about so far will need some sort of numerical feature vector in order to perform the classification task. There are actually many methods to convert a corpus to a vector format. The simplest is the the [bag-of-words](http://en.wikipedia.org/wiki/Bag-of-words_model) approach, where each unique word in a text will be represented by one number.\n\n\nIn this section we'll convert the raw messages (sequence of characters) into vectors (sequences of numbers).\n\nAs a first step, let's write a function that will split a message into its individual words and return a list. We'll also remove very common words, ('the', 'a', etc..). To do this we will take advantage of the NLTK library. It's pretty much the standard library in Python for processing text and has a lot of useful features. We'll only use some of the basic ones here.\n\nLet's create a function that will process the string in the message column, then we can just use **apply()** in pandas do process all the text in the DataFrame.\n\nFirst removing punctuation. We can just take advantage of Python's built-in **string** library to get a quick list of all the possible punctuation:", 
            "cell_type": "markdown", 
            "metadata": {}
        }, 
        {
            "outputs": [
                {
                    "data": {
                        "text/plain": "'!\"#$%&\\'()*+,-./:;<=>?@[\\\\]^_`{|}~'"
                    }, 
                    "output_type": "execute_result", 
                    "execution_count": 22, 
                    "metadata": {}
                }
            ], 
            "source": "import string\nstring.punctuation", 
            "execution_count": 22, 
            "cell_type": "code", 
            "metadata": {
                "collapsed": false
            }
        }, 
        {
            "outputs": [], 
            "source": "import string\n\nmess = 'Sample message! Notice: it has punctuation.'\n\n# Check characters to see if they are in punctuation\nnopunc = [char for char in mess if char not in string.punctuation]\n\n# Join the characters again to form the string.\nnopunc = ''.join(nopunc)", 
            "execution_count": 23, 
            "cell_type": "code", 
            "metadata": {
                "collapsed": false
            }
        }, 
        {
            "outputs": [
                {
                    "data": {
                        "text/plain": "'Sample message Notice it has punctuation'"
                    }, 
                    "output_type": "execute_result", 
                    "execution_count": 24, 
                    "metadata": {}
                }
            ], 
            "source": "# Test\nnopunc", 
            "execution_count": 24, 
            "cell_type": "code", 
            "metadata": {
                "collapsed": false
            }
        }, 
        {
            "source": "Now let's see how to remove stopwords. We can impot a list of english stopwords from NLTK (check the documentation for more languages and info).", 
            "cell_type": "markdown", 
            "metadata": {}
        }, 
        {
            "outputs": [
                {
                    "data": {
                        "text/plain": "['i', 'me', 'my', 'myself', 'we', 'our', 'ours', 'ourselves', 'you', 'your']"
                    }, 
                    "output_type": "execute_result", 
                    "execution_count": 26, 
                    "metadata": {}
                }
            ], 
            "source": "from nltk.corpus import stopwords\nstopwords.words('english')[0:10] # Show some stop words", 
            "execution_count": 26, 
            "cell_type": "code", 
            "metadata": {
                "collapsed": false
            }
        }, 
        {
            "outputs": [
                {
                    "data": {
                        "text/plain": "['Sample', 'message', 'Notice', 'it', 'has', 'punctuation']"
                    }, 
                    "output_type": "execute_result", 
                    "execution_count": 27, 
                    "metadata": {}
                }
            ], 
            "source": "nopunc.split()", 
            "execution_count": 27, 
            "cell_type": "code", 
            "metadata": {
                "collapsed": false
            }
        }, 
        {
            "outputs": [], 
            "source": "# Now just remove any stopwords\nclean_mess = [word for word in nopunc.split() if word.lower() not in stopwords.words('english')]", 
            "execution_count": 28, 
            "cell_type": "code", 
            "metadata": {
                "collapsed": true
            }
        }, 
        {
            "outputs": [
                {
                    "data": {
                        "text/plain": "['Sample', 'message', 'Notice', 'punctuation']"
                    }, 
                    "output_type": "execute_result", 
                    "execution_count": 29, 
                    "metadata": {}
                }
            ], 
            "source": "clean_mess", 
            "execution_count": 29, 
            "cell_type": "code", 
            "metadata": {
                "collapsed": false
            }
        }, 
        {
            "source": "Now let's put both of these together in a function to apply it to our DataFrame later on:", 
            "cell_type": "markdown", 
            "metadata": {}
        }, 
        {
            "outputs": [], 
            "source": "def text_process(mess):\n    \"\"\"\n    Takes in a string of text, then performs the following:\n    1. Remove all punctuation\n    2. Remove all stopwords\n    3. Returns a list of the cleaned text\n    \"\"\"\n    # Check characters to see if they are in punctuation\n    nopunc = [char for char in mess if char not in string.punctuation]\n\n    # Join the characters again to form the string.\n    nopunc = ''.join(nopunc)\n    \n    # Now just remove any stopwords\n    return [word for word in nopunc.split() if word.lower() not in stopwords.words('english')]", 
            "execution_count": 30, 
            "cell_type": "code", 
            "metadata": {
                "collapsed": true
            }
        }, 
        {
            "source": "Here is the original DataFrame again:", 
            "cell_type": "markdown", 
            "metadata": {}
        }, 
        {
            "outputs": [
                {
                    "data": {
                        "text/html": "<div>\n<table border=\"1\" class=\"dataframe\">\n  <thead>\n    <tr style=\"text-align: right;\">\n      <th></th>\n      <th>label</th>\n      <th>message</th>\n      <th>length</th>\n    </tr>\n  </thead>\n  <tbody>\n    <tr>\n      <th>0</th>\n      <td>ham</td>\n      <td>Go until jurong point, crazy.. Available only ...</td>\n      <td>111</td>\n    </tr>\n    <tr>\n      <th>1</th>\n      <td>ham</td>\n      <td>Ok lar... Joking wif u oni...</td>\n      <td>29</td>\n    </tr>\n    <tr>\n      <th>2</th>\n      <td>spam</td>\n      <td>Free entry in 2 a wkly comp to win FA Cup fina...</td>\n      <td>155</td>\n    </tr>\n    <tr>\n      <th>3</th>\n      <td>ham</td>\n      <td>U dun say so early hor... U c already then say...</td>\n      <td>49</td>\n    </tr>\n    <tr>\n      <th>4</th>\n      <td>ham</td>\n      <td>Nah I don't think he goes to usf, he lives aro...</td>\n      <td>61</td>\n    </tr>\n  </tbody>\n</table>\n</div>", 
                        "text/plain": "  label                                            message  length\n0   ham  Go until jurong point, crazy.. Available only ...     111\n1   ham                      Ok lar... Joking wif u oni...      29\n2  spam  Free entry in 2 a wkly comp to win FA Cup fina...     155\n3   ham  U dun say so early hor... U c already then say...      49\n4   ham  Nah I don't think he goes to usf, he lives aro...      61"
                    }, 
                    "output_type": "execute_result", 
                    "execution_count": 31, 
                    "metadata": {}
                }
            ], 
            "source": "messages.head()", 
            "execution_count": 31, 
            "cell_type": "code", 
            "metadata": {
                "collapsed": false
            }
        }, 
        {
            "source": "Now let's \"tokenize\" these messages. Tokenization is just the term used to describe the process of converting the normal text strings in to a list of tokens (words that we actually want).\n\nLet's see an example output on on column:\n\n**Note:**\nWe may get some warnings or errors for symbols we didn't account for or that weren't in Unicode (like a British pound symbol)", 
            "cell_type": "markdown", 
            "metadata": {}
        }, 
        {
            "outputs": [
                {
                    "data": {
                        "text/plain": "0    [Go, jurong, point, crazy, Available, bugis, n...\n1                       [Ok, lar, Joking, wif, u, oni]\n2    [Free, entry, 2, wkly, comp, win, FA, Cup, fin...\n3        [U, dun, say, early, hor, U, c, already, say]\n4    [Nah, dont, think, goes, usf, lives, around, t...\nName: message, dtype: object"
                    }, 
                    "output_type": "execute_result", 
                    "execution_count": 32, 
                    "metadata": {}
                }
            ], 
            "source": "# Check to make sure its working\nmessages['message'].head(5).apply(text_process)", 
            "execution_count": 32, 
            "cell_type": "code", 
            "metadata": {
                "collapsed": false
            }
        }, 
        {
            "outputs": [
                {
                    "data": {
                        "text/html": "<div>\n<table border=\"1\" class=\"dataframe\">\n  <thead>\n    <tr style=\"text-align: right;\">\n      <th></th>\n      <th>label</th>\n      <th>message</th>\n      <th>length</th>\n    </tr>\n  </thead>\n  <tbody>\n    <tr>\n      <th>0</th>\n      <td>ham</td>\n      <td>Go until jurong point, crazy.. Available only ...</td>\n      <td>111</td>\n    </tr>\n    <tr>\n      <th>1</th>\n      <td>ham</td>\n      <td>Ok lar... Joking wif u oni...</td>\n      <td>29</td>\n    </tr>\n    <tr>\n      <th>2</th>\n      <td>spam</td>\n      <td>Free entry in 2 a wkly comp to win FA Cup fina...</td>\n      <td>155</td>\n    </tr>\n    <tr>\n      <th>3</th>\n      <td>ham</td>\n      <td>U dun say so early hor... U c already then say...</td>\n      <td>49</td>\n    </tr>\n    <tr>\n      <th>4</th>\n      <td>ham</td>\n      <td>Nah I don't think he goes to usf, he lives aro...</td>\n      <td>61</td>\n    </tr>\n  </tbody>\n</table>\n</div>", 
                        "text/plain": "  label                                            message  length\n0   ham  Go until jurong point, crazy.. Available only ...     111\n1   ham                      Ok lar... Joking wif u oni...      29\n2  spam  Free entry in 2 a wkly comp to win FA Cup fina...     155\n3   ham  U dun say so early hor... U c already then say...      49\n4   ham  Nah I don't think he goes to usf, he lives aro...      61"
                    }, 
                    "output_type": "execute_result", 
                    "execution_count": 33, 
                    "metadata": {}
                }
            ], 
            "source": "# Show original dataframe\nmessages.head()", 
            "execution_count": 33, 
            "cell_type": "code", 
            "metadata": {
                "collapsed": false
            }
        }, 
        {
            "source": "### Continuing Normalization\n\nThere are a lot of ways to continue normalizing this text. Such as [Stemming](https://en.wikipedia.org/wiki/Stemming) or distinguishing by [part of speech](http://www.nltk.org/book/ch05.html).\n\nNLTK has lots of built-in tools and great documentation on a lot of these methods. Sometimes they don't work well for text-messages due to the way a lot of people tend to use abbreviations or shorthand, For example:\n    \n    'Nah dawg, IDK! Wut time u headin to da club?'\n    \nversus\n\n    'No dog, I don't know! What time are you heading to the club?'\n    \nSome text normalization methods will have trouble with this type of shorthand and so I'll leave you to explore those more advanced methods through the [NLTK book online](http://www.nltk.org/book/).\n\nFor now we will just focus on using what we have to convert our list of words to an actual vector that SciKit-Learn can use.", 
            "cell_type": "markdown", 
            "metadata": {}
        }, 
        {
            "source": "## Vectorization", 
            "cell_type": "markdown", 
            "metadata": {}
        }, 
        {
            "source": "Currently, we have the messages as lists of tokens (also known as [lemmas](http://nlp.stanford.edu/IR-book/html/htmledition/stemming-and-lemmatization-1.html)) and now we need to convert each of those messages into a vector the SciKit Learn's algorithm models can work with.\n\nNow we'll convert each message, represented as a list of tokens (lemmas) above, into a vector that machine learning models can understand.\n\nWe'll do that in three steps using the bag-of-words model:\n\n1. Count how many times does a word occur in each message (Known as term frequency)\n\n2. Weigh the counts, so that frequent tokens get lower weight (inverse document frequency)\n\n3. Normalize the vectors to unit length, to abstract from the original text length (L2 norm)\n\nLet's begin the first step:", 
            "cell_type": "markdown", 
            "metadata": {}
        }, 
        {
            "source": "Each vector will have as many dimensions as there are unique words in the SMS corpus.  We will first use SciKit Learn's **CountVectorizer**. This model will convert a collection of text documents to a matrix of token counts.\n\nWe can imagine this as a 2-Dimensional matrix. Where the 1-dimension is the entire vocabulary (1 row per word) and the other dimension are the actual documents, in this case a column per text message. \n\nFor example:\n\n<table border = \u201c1\u201c>\n<tr>\n<th></th> <th>Message 1</th> <th>Message 2</th> <th>...</th> <th>Message N</th> \n</tr>\n<tr>\n<td><b>Word 1 Count</b></td><td>0</td><td>1</td><td>...</td><td>0</td>\n</tr>\n<tr>\n<td><b>Word 2 Count</b></td><td>0</td><td>0</td><td>...</td><td>0</td>\n</tr>\n<tr>\n<td><b>...</b></td> <td>1</td><td>2</td><td>...</td><td>0</td>\n</tr>\n<tr>\n<td><b>Word N Count</b></td> <td>0</td><td>1</td><td>...</td><td>1</td>\n</tr>\n</table>\n\n\nSince there are so many messages, we can expect a lot of zero counts for the presence of that word in that document. Because of this, SciKit Learn will output a [Sparse Matrix](https://en.wikipedia.org/wiki/Sparse_matrix).", 
            "cell_type": "markdown", 
            "metadata": {}
        }, 
        {
            "outputs": [], 
            "source": "from sklearn.feature_extraction.text import CountVectorizer", 
            "execution_count": 34, 
            "cell_type": "code", 
            "metadata": {
                "collapsed": false
            }
        }, 
        {
            "source": "There are a lot of arguments and parameters that can be passed to the CountVectorizer. In this case we will just specify the **analyzer** to be our own previously defined function:", 
            "cell_type": "markdown", 
            "metadata": {}
        }, 
        {
            "outputs": [
                {
                    "name": "stdout", 
                    "text": "11425\n", 
                    "output_type": "stream"
                }
            ], 
            "source": "# Might take awhile...\nbow_transformer = CountVectorizer(analyzer=text_process).fit(messages['message'])\n\n# Print total number of vocab words\nprint(len(bow_transformer.vocabulary_))", 
            "execution_count": 35, 
            "cell_type": "code", 
            "metadata": {
                "collapsed": false
            }
        }, 
        {
            "source": "Let's take one text message and get its bag-of-words counts as a vector, putting to use our new `bow_transformer`:", 
            "cell_type": "markdown", 
            "metadata": {}
        }, 
        {
            "outputs": [
                {
                    "name": "stdout", 
                    "text": "U dun say so early hor... U c already then say...\n", 
                    "output_type": "stream"
                }
            ], 
            "source": "message4 = messages['message'][3]\nprint(message4)", 
            "execution_count": 37, 
            "cell_type": "code", 
            "metadata": {
                "collapsed": false
            }
        }, 
        {
            "source": "Now let's see its vector representation:", 
            "cell_type": "markdown", 
            "metadata": {}
        }, 
        {
            "outputs": [
                {
                    "name": "stdout", 
                    "text": "  (0, 4068)\t2\n  (0, 4629)\t1\n  (0, 5261)\t1\n  (0, 6204)\t1\n  (0, 6222)\t1\n  (0, 7186)\t1\n  (0, 9554)\t2\n(1, 11425)\n", 
                    "output_type": "stream"
                }
            ], 
            "source": "bow4 = bow_transformer.transform([message4])\nprint(bow4)\nprint(bow4.shape)", 
            "execution_count": 38, 
            "cell_type": "code", 
            "metadata": {
                "collapsed": false
            }
        }, 
        {
            "source": "This means that there are seven unique words in message number 4 (after removing common stop words). Two of them appear twice, the rest only once. Let's go ahead and check and confirm which ones appear twice:", 
            "cell_type": "markdown", 
            "metadata": {}
        }, 
        {
            "outputs": [
                {
                    "name": "stdout", 
                    "text": "U\nsay\n", 
                    "output_type": "stream"
                }
            ], 
            "source": "print(bow_transformer.get_feature_names()[4068])\nprint(bow_transformer.get_feature_names()[9554])", 
            "execution_count": 41, 
            "cell_type": "code", 
            "metadata": {
                "collapsed": false
            }
        }, 
        {
            "source": "Now we can use **.transform** on our Bag-of-Words (bow) transformed object and transform the entire DataFrame of messages. Let's go ahead and check out how the bag-of-words counts for the entire SMS corpus is a large, sparse matrix:", 
            "cell_type": "markdown", 
            "metadata": {}
        }, 
        {
            "outputs": [], 
            "source": "messages_bow = bow_transformer.transform(messages['message'])", 
            "execution_count": 45, 
            "cell_type": "code", 
            "metadata": {
                "collapsed": true
            }
        }, 
        {
            "outputs": [
                {
                    "name": "stdout", 
                    "text": "Shape of Sparse Matrix:  (5572, 11425)\nAmount of Non-Zero occurences:  50548\n", 
                    "output_type": "stream"
                }
            ], 
            "source": "print('Shape of Sparse Matrix: ', messages_bow.shape)\nprint('Amount of Non-Zero occurences: ', messages_bow.nnz)", 
            "execution_count": 46, 
            "cell_type": "code", 
            "metadata": {
                "collapsed": false
            }
        }, 
        {
            "outputs": [
                {
                    "name": "stdout", 
                    "text": "sparsity: 0\nsparsity: 0.07940295412668218\n", 
                    "output_type": "stream"
                }
            ], 
            "source": "sparsity = (100.0 * messages_bow.nnz / (messages_bow.shape[0] * messages_bow.shape[1]))\nprint('sparsity: {}'.format(round(sparsity)))\nprint('sparsity: {}'.format((sparsity)))", 
            "execution_count": 49, 
            "cell_type": "code", 
            "metadata": {
                "collapsed": false
            }
        }, 
        {
            "source": "After the counting, the term weighting and normalization can be done with [TF-IDF](http://en.wikipedia.org/wiki/Tf%E2%80%93idf), using scikit-learn's `TfidfTransformer`.\n\n____\n### So what is TF-IDF?\nTF-IDF stands for *term frequency-inverse document frequency*, and the tf-idf weight is a weight often used in information retrieval and text mining. This weight is a statistical measure used to evaluate how important a word is to a document in a collection or corpus. The importance increases proportionally to the number of times a word appears in the document but is offset by the frequency of the word in the corpus. Variations of the tf-idf weighting scheme are often used by search engines as a central tool in scoring and ranking a document's relevance given a user query.\n\nOne of the simplest ranking functions is computed by summing the tf-idf for each query term; many more sophisticated ranking functions are variants of this simple model.\n\nTypically, the tf-idf weight is composed by two terms: the first computes the normalized Term Frequency (TF), aka. the number of times a word appears in a document, divided by the total number of words in that document; the second term is the Inverse Document Frequency (IDF), computed as the logarithm of the number of the documents in the corpus divided by the number of documents where the specific term appears.\n\n**TF: Term Frequency**, which measures how frequently a term occurs in a document. Since every document is different in length, it is possible that a term would appear much more times in long documents than shorter ones. Thus, the term frequency is often divided by the document length (aka. the total number of terms in the document) as a way of normalization: \n\n*TF(t) = (Number of times term t appears in a document) / (Total number of terms in the document).*\n\n**IDF: Inverse Document Frequency**, which measures how important a term is. While computing TF, all terms are considered equally important. However it is known that certain terms, such as \"is\", \"of\", and \"that\", may appear a lot of times but have little importance. Thus we need to weigh down the frequent terms while scale up the rare ones, by computing the following: \n\n*IDF(t) = log_e(Total number of documents / Number of documents with term t in it).*\n\nSee below for a simple example.\n\n**Example:**\n\nConsider a document containing 100 words wherein the word cat appears 3 times. \n\nThe term frequency (i.e., tf) for cat is then (3 / 100) = 0.03. Now, assume we have 10 million documents and the word cat appears in one thousand of these. Then, the inverse document frequency (i.e., idf) is calculated as log(10,000,000 / 1,000) = 4. Thus, the Tf-idf weight is the product of these quantities: 0.03 * 4 = 0.12.\n____\n\nLet's go ahead and see how we can do this in SciKit Learn:", 
            "cell_type": "markdown", 
            "metadata": {}
        }, 
        {
            "outputs": [
                {
                    "name": "stdout", 
                    "text": "  (0, 9554)\t0.538562626293\n  (0, 7186)\t0.438936565338\n  (0, 6222)\t0.318721689295\n  (0, 6204)\t0.299537997237\n  (0, 5261)\t0.297299574059\n  (0, 4629)\t0.266198019061\n  (0, 4068)\t0.408325899334\n", 
                    "output_type": "stream"
                }
            ], 
            "source": "from sklearn.feature_extraction.text import TfidfTransformer\n\ntfidf_transformer = TfidfTransformer().fit(messages_bow)\ntfidf4 = tfidf_transformer.transform(bow4)\nprint(tfidf4)", 
            "execution_count": 50, 
            "cell_type": "code", 
            "metadata": {
                "collapsed": false
            }
        }, 
        {
            "source": "We'll go ahead and check what is the IDF (inverse document frequency) of the word `\"u\"` and of word `\"university\"`?", 
            "cell_type": "markdown", 
            "metadata": {}
        }, 
        {
            "outputs": [
                {
                    "name": "stdout", 
                    "text": "3.28005242674\n8.5270764989\n", 
                    "output_type": "stream"
                }
            ], 
            "source": "print(tfidf_transformer.idf_[bow_transformer.vocabulary_['u']])\nprint(tfidf_transformer.idf_[bow_transformer.vocabulary_['university']])", 
            "execution_count": 52, 
            "cell_type": "code", 
            "metadata": {
                "collapsed": false
            }
        }, 
        {
            "source": "To transform the entire bag-of-words corpus into TF-IDF corpus at once:", 
            "cell_type": "markdown", 
            "metadata": {}
        }, 
        {
            "outputs": [
                {
                    "name": "stdout", 
                    "text": "(5572, 11425)\n", 
                    "output_type": "stream"
                }
            ], 
            "source": "messages_tfidf = tfidf_transformer.transform(messages_bow)\nprint(messages_tfidf.shape)", 
            "execution_count": 53, 
            "cell_type": "code", 
            "metadata": {
                "collapsed": false
            }
        }, 
        {
            "source": "There are many ways the data can be preprocessed and vectorized. These steps involve feature engineering and building a \"pipeline\". I encourage you to check out SciKit Learn's documentation on dealing with text data as well as the expansive collection of available papers and books on the general topic of NLP.", 
            "cell_type": "markdown", 
            "metadata": {}
        }, 
        {
            "source": "## Training a model", 
            "cell_type": "markdown", 
            "metadata": {}
        }, 
        {
            "source": "With messages represented as vectors, we can finally train our spam/ham classifier. Now we can actually use almost any sort of classification algorithms. For a [variety of reasons](http://www.inf.ed.ac.uk/teaching/courses/inf2b/learnnotes/inf2b-learn-note07-2up.pdf), the Naive Bayes classifier algorithm is a good choice.", 
            "cell_type": "markdown", 
            "metadata": {}
        }, 
        {
            "source": "We'll be using scikit-learn here, choosing the [Naive Bayes](http://en.wikipedia.org/wiki/Naive_Bayes_classifier) classifier to start with:", 
            "cell_type": "markdown", 
            "metadata": {}
        }, 
        {
            "outputs": [], 
            "source": "from sklearn.naive_bayes import MultinomialNB\nspam_detect_model = MultinomialNB().fit(messages_tfidf, messages['label'])", 
            "execution_count": 54, 
            "cell_type": "code", 
            "metadata": {
                "collapsed": false
            }
        }, 
        {
            "source": "Let's try classifying our single random message and checking how we do:", 
            "cell_type": "markdown", 
            "metadata": {}
        }, 
        {
            "outputs": [
                {
                    "name": "stdout", 
                    "text": "predicted: ham\nexpected: ham\n", 
                    "output_type": "stream"
                }
            ], 
            "source": "print('predicted:', spam_detect_model.predict(tfidf4)[0])\nprint('expected:', messages.label[3])", 
            "execution_count": 71, 
            "cell_type": "code", 
            "metadata": {
                "collapsed": false
            }
        }, 
        {
            "source": "Fantastic! We've developed a model that can attempt to predict spam vs ham classification!\n\n## Part 6: Model Evaluation\nNow we want to determine how well our model will do overall on the entire dataset. Let's begin by getting all the predictions:", 
            "cell_type": "markdown", 
            "metadata": {}
        }, 
        {
            "outputs": [
                {
                    "name": "stdout", 
                    "text": "['ham' 'ham' 'spam' ..., 'ham' 'ham' 'ham']\n", 
                    "output_type": "stream"
                }
            ], 
            "source": "all_predictions = spam_detect_model.predict(messages_tfidf)\nprint(all_predictions)", 
            "execution_count": 70, 
            "cell_type": "code", 
            "metadata": {
                "collapsed": false
            }
        }, 
        {
            "source": "We can use SciKit Learn's built-in classification report, which returns [precision, recall,](https://en.wikipedia.org/wiki/Precision_and_recall) [f1-score](https://en.wikipedia.org/wiki/F1_score), and a column for support (meaning how many cases supported that classification). Check out the links for more detailed info on each of these metrics and the figure below:", 
            "cell_type": "markdown", 
            "metadata": {}
        }, 
        {
            "source": "<img src='https://upload.wikimedia.org/wikipedia/commons/thumb/2/26/Precisionrecall.svg/700px-Precisionrecall.svg.png' width=400 />", 
            "cell_type": "markdown", 
            "metadata": {
                "collapsed": false
            }
        }, 
        {
            "outputs": [
                {
                    "name": "stdout", 
                    "text": "             precision    recall  f1-score   support\n\n        ham       0.98      1.00      0.99      4825\n       spam       1.00      0.85      0.92       747\n\navg / total       0.98      0.98      0.98      5572\n\n", 
                    "output_type": "stream"
                }
            ], 
            "source": "from sklearn.metrics import classification_report\nprint (classification_report(messages['label'], all_predictions))", 
            "execution_count": 72, 
            "cell_type": "code", 
            "metadata": {
                "collapsed": false
            }
        }, 
        {
            "source": "There are quite a few possible metrics for evaluating model performance. Which one is the most important depends on the task and the business effects of decisions based off of the model. For example, the cost of mis-predicting \"spam\" as \"ham\" is probably much lower than mis-predicting \"ham\" as \"spam\".", 
            "cell_type": "markdown", 
            "metadata": {}
        }, 
        {
            "source": "In the above \"evaluation\",we evaluated accuracy on the same data we used for training. **You should never actually evaluate on the same dataset you train on!**\n\nSuch evaluation tells us nothing about the true predictive power of our model. If we simply remembered each example during training, the accuracy on training data would trivially be 100%, even though we wouldn't be able to classify any new messages.\n\nA proper way is to split the data into a training/test set, where the model only ever sees the **training data** during its model fitting and parameter tuning. The **test data** is never used in any way. This is then our final evaluation on test data is representative of true predictive performance.\n\n## Train Test Split", 
            "cell_type": "markdown", 
            "metadata": {}
        }, 
        {
            "outputs": [
                {
                    "name": "stdout", 
                    "text": "4457 1115 5572\n", 
                    "output_type": "stream"
                }
            ], 
            "source": "from sklearn.cross_validation import train_test_split\n\nmsg_train, msg_test, label_train, label_test = \\\ntrain_test_split(messages['message'], messages['label'], test_size=0.2)\n\nprint(len(msg_train), len(msg_test), len(msg_train) + len(msg_test))", 
            "execution_count": 73, 
            "cell_type": "code", 
            "metadata": {
                "collapsed": false
            }
        }, 
        {
            "source": "The test size is 20% of the entire dataset (1115 messages out of total 5572), and the training is the rest (4457 out of 5572). Note the default split would have been 30/70.\n\n## Creating a Data Pipeline\n\nLet's run our model again and then predict off the test set. We will use SciKit Learn's [pipeline](http://scikit-learn.org/stable/modules/pipeline.html) capabilities to store a pipeline of workflow. This will allow us to set up all the transformations that we will do to the data for future use. Let's see an example of how it works:", 
            "cell_type": "markdown", 
            "metadata": {}
        }, 
        {
            "outputs": [], 
            "source": "from sklearn.pipeline import Pipeline\n\npipeline = Pipeline([\n    ('bow', CountVectorizer(analyzer=text_process)),  # strings to token integer counts\n    ('tfidf', TfidfTransformer()),  # integer counts to weighted TF-IDF scores\n    ('classifier', MultinomialNB()),  # train on TF-IDF vectors w/ Naive Bayes classifier\n])", 
            "execution_count": 74, 
            "cell_type": "code", 
            "metadata": {
                "collapsed": false
            }
        }, 
        {
            "source": "Now we can directly pass message text data and the pipeline will do our pre-processing for us! We can treat it as a model/estimator API:", 
            "cell_type": "markdown", 
            "metadata": {}
        }, 
        {
            "outputs": [
                {
                    "data": {
                        "text/plain": "Pipeline(steps=[('bow', CountVectorizer(analyzer=<function text_process at 0x7fa29820a488>,\n        binary=False, decode_error='strict', dtype=<class 'numpy.int64'>,\n        encoding='utf-8', input='content', lowercase=True, max_df=1.0,\n        max_features=None, min_df=1, ngram_range=(1, 1), preprocessor=No...f=False, use_idf=True)), ('classifier', MultinomialNB(alpha=1.0, class_prior=None, fit_prior=True))])"
                    }, 
                    "output_type": "execute_result", 
                    "execution_count": 75, 
                    "metadata": {}
                }
            ], 
            "source": "pipeline.fit(msg_train,label_train)", 
            "execution_count": 75, 
            "cell_type": "code", 
            "metadata": {
                "collapsed": false
            }
        }, 
        {
            "outputs": [], 
            "source": "predictions = pipeline.predict(msg_test)", 
            "execution_count": 76, 
            "cell_type": "code", 
            "metadata": {
                "collapsed": false
            }
        }, 
        {
            "outputs": [
                {
                    "name": "stdout", 
                    "text": "             precision    recall  f1-score   support\n\n        ham       1.00      0.96      0.98      1012\n       spam       0.73      1.00      0.84       103\n\navg / total       0.97      0.97      0.97      1115\n\n", 
                    "output_type": "stream"
                }
            ], 
            "source": "print(classification_report(predictions,label_test))", 
            "execution_count": 77, 
            "cell_type": "code", 
            "metadata": {
                "collapsed": false
            }
        }, 
        {
            "source": "Now we have a classification report for our model on a true testing set! There is a lot more to Natural Language Processing than what we've covered here, and its vast expanse of topic could fill up several college courses! I encourage you to check out the resources below for more information on NLP!", 
            "cell_type": "markdown", 
            "metadata": {}
        }, 
        {
            "source": "## More Resources\n\nCheck out the links below for more info on Natural Language Processing:\n\n[NLTK Book Online](http://www.nltk.org/book/)\n\n[Kaggle Walkthrough](https://www.kaggle.com/c/word2vec-nlp-tutorial/details/part-1-for-beginners-bag-of-words)\n\n[SciKit Learn's Tutorial](http://scikit-learn.org/stable/tutorial/text_analytics/working_with_text_data.html)", 
            "cell_type": "markdown", 
            "metadata": {}
        }, 
        {
            "source": "# Good Job!", 
            "cell_type": "markdown", 
            "metadata": {
                "collapsed": false
            }
        }
    ], 
    "nbformat": 4, 
    "metadata": {
        "kernelspec": {
            "name": "python3", 
            "language": "python", 
            "display_name": "Python 3.5 (Experimental) with Spark 1.6"
        }, 
        "language_info": {
            "name": "python", 
            "pygments_lexer": "ipython3", 
            "mimetype": "text/x-python", 
            "nbconvert_exporter": "python", 
            "file_extension": ".py", 
            "codemirror_mode": {
                "name": "ipython", 
                "version": 3
            }, 
            "version": "3.5.2"
        }
    }
}