{
    "cells": [
        {
            "cell_type": "markdown", 
            "source": "___\n\n<a href='http://www.pieriandata.com'> <img src='../Pierian_Data_Logo.png' /></a>\n___\n# Support Vector Machines with Python\n\nWelcome to the Support Vector Machines with Python Lecture Notebook! Remember to refer to the video lecture for the full background information on the code here!\n\n## Import Libraries", 
            "metadata": {}
        }, 
        {
            "cell_type": "code", 
            "source": "import pandas as pd\nimport numpy as np\nimport matplotlib.pyplot as plt\nimport seaborn as sns\n%matplotlib inline", 
            "execution_count": 21, 
            "outputs": [], 
            "metadata": {
                "collapsed": true
            }
        }, 
        {
            "cell_type": "markdown", 
            "source": "## Get the Data\n\nWe'll use the built in breast cancer dataset from Scikit Learn. We can get with the load function:", 
            "metadata": {}
        }, 
        {
            "cell_type": "code", 
            "source": "from sklearn.datasets import load_breast_cancer", 
            "execution_count": 22, 
            "outputs": [], 
            "metadata": {
                "collapsed": true
            }
        }, 
        {
            "cell_type": "code", 
            "source": "cancer = load_breast_cancer()", 
            "execution_count": 23, 
            "outputs": [], 
            "metadata": {
                "collapsed": true
            }
        }, 
        {
            "cell_type": "markdown", 
            "source": "The data set is presented in a dictionary form:", 
            "metadata": {}
        }, 
        {
            "cell_type": "code", 
            "source": "cancer.keys()", 
            "execution_count": 24, 
            "outputs": [
                {
                    "output_type": "execute_result", 
                    "execution_count": 24, 
                    "data": {
                        "text/plain": "dict_keys(['data', 'target', 'DESCR', 'feature_names', 'target_names'])"
                    }, 
                    "metadata": {}
                }
            ], 
            "metadata": {
                "collapsed": false
            }
        }, 
        {
            "cell_type": "markdown", 
            "source": "We can grab information and arrays out of this dictionary to set up our data frame and understanding of the features:", 
            "metadata": {}
        }, 
        {
            "cell_type": "code", 
            "source": "print(cancer['DESCR'])", 
            "execution_count": 25, 
            "outputs": [
                {
                    "output_type": "stream", 
                    "text": "Breast Cancer Wisconsin (Diagnostic) Database\n\nNotes\n-----\nData Set Characteristics:\n    :Number of Instances: 569\n\n    :Number of Attributes: 30 numeric, predictive attributes and the class\n\n    :Attribute Information:\n        - radius (mean of distances from center to points on the perimeter)\n        - texture (standard deviation of gray-scale values)\n        - perimeter\n        - area\n        - smoothness (local variation in radius lengths)\n        - compactness (perimeter^2 / area - 1.0)\n        - concavity (severity of concave portions of the contour)\n        - concave points (number of concave portions of the contour)\n        - symmetry \n        - fractal dimension (\"coastline approximation\" - 1)\n        \n        The mean, standard error, and \"worst\" or largest (mean of the three\n        largest values) of these features were computed for each image,\n        resulting in 30 features.  For instance, field 3 is Mean Radius, field\n        13 is Radius SE, field 23 is Worst Radius.\n        \n        - class:\n                - WDBC-Malignant\n                - WDBC-Benign\n\n    :Summary Statistics:\n\n    ===================================== ======= ========\n                                           Min     Max\n    ===================================== ======= ========\n    radius (mean):                         6.981   28.11\n    texture (mean):                        9.71    39.28\n    perimeter (mean):                      43.79   188.5\n    area (mean):                           143.5   2501.0\n    smoothness (mean):                     0.053   0.163\n    compactness (mean):                    0.019   0.345\n    concavity (mean):                      0.0     0.427\n    concave points (mean):                 0.0     0.201\n    symmetry (mean):                       0.106   0.304\n    fractal dimension (mean):              0.05    0.097\n    radius (standard error):               0.112   2.873\n    texture (standard error):              0.36    4.885\n    perimeter (standard error):            0.757   21.98\n    area (standard error):                 6.802   542.2\n    smoothness (standard error):           0.002   0.031\n    compactness (standard error):          0.002   0.135\n    concavity (standard error):            0.0     0.396\n    concave points (standard error):       0.0     0.053\n    symmetry (standard error):             0.008   0.079\n    fractal dimension (standard error):    0.001   0.03\n    radius (worst):                        7.93    36.04\n    texture (worst):                       12.02   49.54\n    perimeter (worst):                     50.41   251.2\n    area (worst):                          185.2   4254.0\n    smoothness (worst):                    0.071   0.223\n    compactness (worst):                   0.027   1.058\n    concavity (worst):                     0.0     1.252\n    concave points (worst):                0.0     0.291\n    symmetry (worst):                      0.156   0.664\n    fractal dimension (worst):             0.055   0.208\n    ===================================== ======= ========\n\n    :Missing Attribute Values: None\n\n    :Class Distribution: 212 - Malignant, 357 - Benign\n\n    :Creator:  Dr. William H. Wolberg, W. Nick Street, Olvi L. Mangasarian\n\n    :Donor: Nick Street\n\n    :Date: November, 1995\n\nThis is a copy of UCI ML Breast Cancer Wisconsin (Diagnostic) datasets.\nhttps://goo.gl/U2Uwz2\n\nFeatures are computed from a digitized image of a fine needle\naspirate (FNA) of a breast mass.  They describe\ncharacteristics of the cell nuclei present in the image.\nA few of the images can be found at\nhttp://www.cs.wisc.edu/~street/images/\n\nSeparating plane described above was obtained using\nMultisurface Method-Tree (MSM-T) [K. P. Bennett, \"Decision Tree\nConstruction Via Linear Programming.\" Proceedings of the 4th\nMidwest Artificial Intelligence and Cognitive Science Society,\npp. 97-101, 1992], a classification method which uses linear\nprogramming to construct a decision tree.  Relevant features\nwere selected using an exhaustive search in the space of 1-4\nfeatures and 1-3 separating planes.\n\nThe actual linear program used to obtain the separating plane\nin the 3-dimensional space is that described in:\n[K. P. Bennett and O. L. Mangasarian: \"Robust Linear\nProgramming Discrimination of Two Linearly Inseparable Sets\",\nOptimization Methods and Software 1, 1992, 23-34].\n\nThis database is also available through the UW CS ftp server:\n\nftp ftp.cs.wisc.edu\ncd math-prog/cpo-dataset/machine-learn/WDBC/\n\nReferences\n----------\n   - W.N. Street, W.H. Wolberg and O.L. Mangasarian. Nuclear feature extraction \n     for breast tumor diagnosis. IS&T/SPIE 1993 International Symposium on \n     Electronic Imaging: Science and Technology, volume 1905, pages 861-870, \n     San Jose, CA, 1993. \n   - O.L. Mangasarian, W.N. Street and W.H. Wolberg. Breast cancer diagnosis and \n     prognosis via linear programming. Operations Research, 43(4), pages 570-577, \n     July-August 1995.\n   - W.H. Wolberg, W.N. Street, and O.L. Mangasarian. Machine learning techniques\n     to diagnose breast cancer from fine-needle aspirates. Cancer Letters 77 (1994) \n     163-171.\n\n", 
                    "name": "stdout"
                }
            ], 
            "metadata": {
                "collapsed": false
            }
        }, 
        {
            "cell_type": "code", 
            "source": "cancer['feature_names']", 
            "execution_count": 26, 
            "outputs": [
                {
                    "output_type": "execute_result", 
                    "execution_count": 26, 
                    "data": {
                        "text/plain": "array(['mean radius', 'mean texture', 'mean perimeter', 'mean area',\n       'mean smoothness', 'mean compactness', 'mean concavity',\n       'mean concave points', 'mean symmetry', 'mean fractal dimension',\n       'radius error', 'texture error', 'perimeter error', 'area error',\n       'smoothness error', 'compactness error', 'concavity error',\n       'concave points error', 'symmetry error', 'fractal dimension error',\n       'worst radius', 'worst texture', 'worst perimeter', 'worst area',\n       'worst smoothness', 'worst compactness', 'worst concavity',\n       'worst concave points', 'worst symmetry', 'worst fractal dimension'], \n      dtype='<U23')"
                    }, 
                    "metadata": {}
                }
            ], 
            "metadata": {
                "collapsed": false
            }
        }, 
        {
            "cell_type": "markdown", 
            "source": "## Set up DataFrame", 
            "metadata": {}
        }, 
        {
            "cell_type": "code", 
            "source": "df_feat = pd.DataFrame(cancer['data'],columns=cancer['feature_names'])\ndf_feat.info()", 
            "execution_count": 27, 
            "outputs": [
                {
                    "output_type": "stream", 
                    "text": "<class 'pandas.core.frame.DataFrame'>\nRangeIndex: 569 entries, 0 to 568\nData columns (total 30 columns):\nmean radius                569 non-null float64\nmean texture               569 non-null float64\nmean perimeter             569 non-null float64\nmean area                  569 non-null float64\nmean smoothness            569 non-null float64\nmean compactness           569 non-null float64\nmean concavity             569 non-null float64\nmean concave points        569 non-null float64\nmean symmetry              569 non-null float64\nmean fractal dimension     569 non-null float64\nradius error               569 non-null float64\ntexture error              569 non-null float64\nperimeter error            569 non-null float64\narea error                 569 non-null float64\nsmoothness error           569 non-null float64\ncompactness error          569 non-null float64\nconcavity error            569 non-null float64\nconcave points error       569 non-null float64\nsymmetry error             569 non-null float64\nfractal dimension error    569 non-null float64\nworst radius               569 non-null float64\nworst texture              569 non-null float64\nworst perimeter            569 non-null float64\nworst area                 569 non-null float64\nworst smoothness           569 non-null float64\nworst compactness          569 non-null float64\nworst concavity            569 non-null float64\nworst concave points       569 non-null float64\nworst symmetry             569 non-null float64\nworst fractal dimension    569 non-null float64\ndtypes: float64(30)\nmemory usage: 133.4 KB\n", 
                    "name": "stdout"
                }
            ], 
            "metadata": {
                "collapsed": false
            }
        }, 
        {
            "cell_type": "code", 
            "source": "df_feat.head(2)", 
            "execution_count": 28, 
            "outputs": [
                {
                    "output_type": "execute_result", 
                    "execution_count": 28, 
                    "data": {
                        "text/html": "<div>\n<table border=\"1\" class=\"dataframe\">\n  <thead>\n    <tr style=\"text-align: right;\">\n      <th></th>\n      <th>mean radius</th>\n      <th>mean texture</th>\n      <th>mean perimeter</th>\n      <th>mean area</th>\n      <th>mean smoothness</th>\n      <th>mean compactness</th>\n      <th>mean concavity</th>\n      <th>mean concave points</th>\n      <th>mean symmetry</th>\n      <th>mean fractal dimension</th>\n      <th>...</th>\n      <th>worst radius</th>\n      <th>worst texture</th>\n      <th>worst perimeter</th>\n      <th>worst area</th>\n      <th>worst smoothness</th>\n      <th>worst compactness</th>\n      <th>worst concavity</th>\n      <th>worst concave points</th>\n      <th>worst symmetry</th>\n      <th>worst fractal dimension</th>\n    </tr>\n  </thead>\n  <tbody>\n    <tr>\n      <th>0</th>\n      <td>17.99</td>\n      <td>10.38</td>\n      <td>122.8</td>\n      <td>1001.0</td>\n      <td>0.11840</td>\n      <td>0.27760</td>\n      <td>0.3001</td>\n      <td>0.14710</td>\n      <td>0.2419</td>\n      <td>0.07871</td>\n      <td>...</td>\n      <td>25.38</td>\n      <td>17.33</td>\n      <td>184.6</td>\n      <td>2019.0</td>\n      <td>0.1622</td>\n      <td>0.6656</td>\n      <td>0.7119</td>\n      <td>0.2654</td>\n      <td>0.4601</td>\n      <td>0.11890</td>\n    </tr>\n    <tr>\n      <th>1</th>\n      <td>20.57</td>\n      <td>17.77</td>\n      <td>132.9</td>\n      <td>1326.0</td>\n      <td>0.08474</td>\n      <td>0.07864</td>\n      <td>0.0869</td>\n      <td>0.07017</td>\n      <td>0.1812</td>\n      <td>0.05667</td>\n      <td>...</td>\n      <td>24.99</td>\n      <td>23.41</td>\n      <td>158.8</td>\n      <td>1956.0</td>\n      <td>0.1238</td>\n      <td>0.1866</td>\n      <td>0.2416</td>\n      <td>0.1860</td>\n      <td>0.2750</td>\n      <td>0.08902</td>\n    </tr>\n  </tbody>\n</table>\n<p>2 rows \u00d7 30 columns</p>\n</div>", 
                        "text/plain": "   mean radius  mean texture  mean perimeter  mean area  mean smoothness  \\\n0        17.99         10.38           122.8     1001.0          0.11840   \n1        20.57         17.77           132.9     1326.0          0.08474   \n\n   mean compactness  mean concavity  mean concave points  mean symmetry  \\\n0           0.27760          0.3001              0.14710         0.2419   \n1           0.07864          0.0869              0.07017         0.1812   \n\n   mean fractal dimension           ...             worst radius  \\\n0                 0.07871           ...                    25.38   \n1                 0.05667           ...                    24.99   \n\n   worst texture  worst perimeter  worst area  worst smoothness  \\\n0          17.33            184.6      2019.0            0.1622   \n1          23.41            158.8      1956.0            0.1238   \n\n   worst compactness  worst concavity  worst concave points  worst symmetry  \\\n0             0.6656           0.7119                0.2654          0.4601   \n1             0.1866           0.2416                0.1860          0.2750   \n\n   worst fractal dimension  \n0                  0.11890  \n1                  0.08902  \n\n[2 rows x 30 columns]"
                    }, 
                    "metadata": {}
                }
            ], 
            "metadata": {
                "collapsed": false
            }
        }, 
        {
            "cell_type": "code", 
            "source": "cancer['target']", 
            "execution_count": 29, 
            "outputs": [
                {
                    "output_type": "execute_result", 
                    "execution_count": 29, 
                    "data": {
                        "text/plain": "array([0, 0, 0, 0, 0, 0, 0, 0, 0, 0, 0, 0, 0, 0, 0, 0, 0, 0, 0, 1, 1, 1, 0,\n       0, 0, 0, 0, 0, 0, 0, 0, 0, 0, 0, 0, 0, 0, 1, 0, 0, 0, 0, 0, 0, 0, 0,\n       1, 0, 1, 1, 1, 1, 1, 0, 0, 1, 0, 0, 1, 1, 1, 1, 0, 1, 0, 0, 1, 1, 1,\n       1, 0, 1, 0, 0, 1, 0, 1, 0, 0, 1, 1, 1, 0, 0, 1, 0, 0, 0, 1, 1, 1, 0,\n       1, 1, 0, 0, 1, 1, 1, 0, 0, 1, 1, 1, 1, 0, 1, 1, 0, 1, 1, 1, 1, 1, 1,\n       1, 1, 0, 0, 0, 1, 0, 0, 1, 1, 1, 0, 0, 1, 0, 1, 0, 0, 1, 0, 0, 1, 1,\n       0, 1, 1, 0, 1, 1, 1, 1, 0, 1, 1, 1, 1, 1, 1, 1, 1, 1, 0, 1, 1, 1, 1,\n       0, 0, 1, 0, 1, 1, 0, 0, 1, 1, 0, 0, 1, 1, 1, 1, 0, 1, 1, 0, 0, 0, 1,\n       0, 1, 0, 1, 1, 1, 0, 1, 1, 0, 0, 1, 0, 0, 0, 0, 1, 0, 0, 0, 1, 0, 1,\n       0, 1, 1, 0, 1, 0, 0, 0, 0, 1, 1, 0, 0, 1, 1, 1, 0, 1, 1, 1, 1, 1, 0,\n       0, 1, 1, 0, 1, 1, 0, 0, 1, 0, 1, 1, 1, 1, 0, 1, 1, 1, 1, 1, 0, 1, 0,\n       0, 0, 0, 0, 0, 0, 0, 0, 0, 0, 0, 0, 0, 1, 1, 1, 1, 1, 1, 0, 1, 0, 1,\n       1, 0, 1, 1, 0, 1, 0, 0, 1, 1, 1, 1, 1, 1, 1, 1, 1, 1, 1, 1, 1, 0, 1,\n       1, 0, 1, 0, 1, 1, 1, 1, 1, 1, 1, 1, 1, 1, 1, 1, 1, 1, 0, 1, 1, 1, 0,\n       1, 0, 1, 1, 1, 1, 0, 0, 0, 1, 1, 1, 1, 0, 1, 0, 1, 0, 1, 1, 1, 0, 1,\n       1, 1, 1, 1, 1, 1, 0, 0, 0, 1, 1, 1, 1, 1, 1, 1, 1, 1, 1, 1, 0, 0, 1,\n       0, 0, 0, 1, 0, 0, 1, 1, 1, 1, 1, 0, 1, 1, 1, 1, 1, 0, 1, 1, 1, 0, 1,\n       1, 0, 0, 1, 1, 1, 1, 1, 1, 0, 1, 1, 1, 1, 1, 1, 1, 0, 1, 1, 1, 1, 1,\n       0, 1, 1, 0, 1, 1, 1, 1, 1, 1, 1, 1, 1, 1, 1, 1, 0, 1, 0, 0, 1, 0, 1,\n       1, 1, 1, 1, 0, 1, 1, 0, 1, 0, 1, 1, 0, 1, 0, 1, 1, 1, 1, 1, 1, 1, 1,\n       0, 0, 1, 1, 1, 1, 1, 1, 0, 1, 1, 1, 1, 1, 1, 1, 1, 1, 1, 0, 1, 1, 1,\n       1, 1, 1, 1, 0, 1, 0, 1, 1, 0, 1, 1, 1, 1, 1, 0, 0, 1, 0, 1, 0, 1, 1,\n       1, 1, 1, 0, 1, 1, 0, 1, 0, 1, 0, 0, 1, 1, 1, 0, 1, 1, 1, 1, 1, 1, 1,\n       1, 1, 1, 1, 0, 1, 0, 0, 1, 1, 1, 1, 1, 1, 1, 1, 1, 1, 1, 1, 1, 1, 1,\n       1, 1, 1, 1, 1, 1, 1, 1, 1, 1, 0, 0, 0, 0, 0, 0, 1])"
                    }, 
                    "metadata": {}
                }
            ], 
            "metadata": {
                "collapsed": false
            }
        }, 
        {
            "cell_type": "code", 
            "source": "cancer['target_names']", 
            "execution_count": 30, 
            "outputs": [
                {
                    "output_type": "execute_result", 
                    "execution_count": 30, 
                    "data": {
                        "text/plain": "array(['malignant', 'benign'], \n      dtype='<U9')"
                    }, 
                    "metadata": {}
                }
            ], 
            "metadata": {
                "collapsed": false
            }
        }, 
        {
            "cell_type": "code", 
            "source": "df_target = pd.DataFrame(cancer['target'],columns=['Cancer'])", 
            "execution_count": 31, 
            "outputs": [], 
            "metadata": {
                "collapsed": false
            }
        }, 
        {
            "cell_type": "markdown", 
            "source": "Now let's actually check out the dataframe!", 
            "metadata": {}
        }, 
        {
            "cell_type": "code", 
            "source": "df_feat.head()", 
            "execution_count": 32, 
            "outputs": [
                {
                    "output_type": "execute_result", 
                    "execution_count": 32, 
                    "data": {
                        "text/html": "<div>\n<table border=\"1\" class=\"dataframe\">\n  <thead>\n    <tr style=\"text-align: right;\">\n      <th></th>\n      <th>mean radius</th>\n      <th>mean texture</th>\n      <th>mean perimeter</th>\n      <th>mean area</th>\n      <th>mean smoothness</th>\n      <th>mean compactness</th>\n      <th>mean concavity</th>\n      <th>mean concave points</th>\n      <th>mean symmetry</th>\n      <th>mean fractal dimension</th>\n      <th>...</th>\n      <th>worst radius</th>\n      <th>worst texture</th>\n      <th>worst perimeter</th>\n      <th>worst area</th>\n      <th>worst smoothness</th>\n      <th>worst compactness</th>\n      <th>worst concavity</th>\n      <th>worst concave points</th>\n      <th>worst symmetry</th>\n      <th>worst fractal dimension</th>\n    </tr>\n  </thead>\n  <tbody>\n    <tr>\n      <th>0</th>\n      <td>17.99</td>\n      <td>10.38</td>\n      <td>122.80</td>\n      <td>1001.0</td>\n      <td>0.11840</td>\n      <td>0.27760</td>\n      <td>0.3001</td>\n      <td>0.14710</td>\n      <td>0.2419</td>\n      <td>0.07871</td>\n      <td>...</td>\n      <td>25.38</td>\n      <td>17.33</td>\n      <td>184.60</td>\n      <td>2019.0</td>\n      <td>0.1622</td>\n      <td>0.6656</td>\n      <td>0.7119</td>\n      <td>0.2654</td>\n      <td>0.4601</td>\n      <td>0.11890</td>\n    </tr>\n    <tr>\n      <th>1</th>\n      <td>20.57</td>\n      <td>17.77</td>\n      <td>132.90</td>\n      <td>1326.0</td>\n      <td>0.08474</td>\n      <td>0.07864</td>\n      <td>0.0869</td>\n      <td>0.07017</td>\n      <td>0.1812</td>\n      <td>0.05667</td>\n      <td>...</td>\n      <td>24.99</td>\n      <td>23.41</td>\n      <td>158.80</td>\n      <td>1956.0</td>\n      <td>0.1238</td>\n      <td>0.1866</td>\n      <td>0.2416</td>\n      <td>0.1860</td>\n      <td>0.2750</td>\n      <td>0.08902</td>\n    </tr>\n    <tr>\n      <th>2</th>\n      <td>19.69</td>\n      <td>21.25</td>\n      <td>130.00</td>\n      <td>1203.0</td>\n      <td>0.10960</td>\n      <td>0.15990</td>\n      <td>0.1974</td>\n      <td>0.12790</td>\n      <td>0.2069</td>\n      <td>0.05999</td>\n      <td>...</td>\n      <td>23.57</td>\n      <td>25.53</td>\n      <td>152.50</td>\n      <td>1709.0</td>\n      <td>0.1444</td>\n      <td>0.4245</td>\n      <td>0.4504</td>\n      <td>0.2430</td>\n      <td>0.3613</td>\n      <td>0.08758</td>\n    </tr>\n    <tr>\n      <th>3</th>\n      <td>11.42</td>\n      <td>20.38</td>\n      <td>77.58</td>\n      <td>386.1</td>\n      <td>0.14250</td>\n      <td>0.28390</td>\n      <td>0.2414</td>\n      <td>0.10520</td>\n      <td>0.2597</td>\n      <td>0.09744</td>\n      <td>...</td>\n      <td>14.91</td>\n      <td>26.50</td>\n      <td>98.87</td>\n      <td>567.7</td>\n      <td>0.2098</td>\n      <td>0.8663</td>\n      <td>0.6869</td>\n      <td>0.2575</td>\n      <td>0.6638</td>\n      <td>0.17300</td>\n    </tr>\n    <tr>\n      <th>4</th>\n      <td>20.29</td>\n      <td>14.34</td>\n      <td>135.10</td>\n      <td>1297.0</td>\n      <td>0.10030</td>\n      <td>0.13280</td>\n      <td>0.1980</td>\n      <td>0.10430</td>\n      <td>0.1809</td>\n      <td>0.05883</td>\n      <td>...</td>\n      <td>22.54</td>\n      <td>16.67</td>\n      <td>152.20</td>\n      <td>1575.0</td>\n      <td>0.1374</td>\n      <td>0.2050</td>\n      <td>0.4000</td>\n      <td>0.1625</td>\n      <td>0.2364</td>\n      <td>0.07678</td>\n    </tr>\n  </tbody>\n</table>\n<p>5 rows \u00d7 30 columns</p>\n</div>", 
                        "text/plain": "   mean radius  mean texture  mean perimeter  mean area  mean smoothness  \\\n0        17.99         10.38          122.80     1001.0          0.11840   \n1        20.57         17.77          132.90     1326.0          0.08474   \n2        19.69         21.25          130.00     1203.0          0.10960   \n3        11.42         20.38           77.58      386.1          0.14250   \n4        20.29         14.34          135.10     1297.0          0.10030   \n\n   mean compactness  mean concavity  mean concave points  mean symmetry  \\\n0           0.27760          0.3001              0.14710         0.2419   \n1           0.07864          0.0869              0.07017         0.1812   \n2           0.15990          0.1974              0.12790         0.2069   \n3           0.28390          0.2414              0.10520         0.2597   \n4           0.13280          0.1980              0.10430         0.1809   \n\n   mean fractal dimension           ...             worst radius  \\\n0                 0.07871           ...                    25.38   \n1                 0.05667           ...                    24.99   \n2                 0.05999           ...                    23.57   \n3                 0.09744           ...                    14.91   \n4                 0.05883           ...                    22.54   \n\n   worst texture  worst perimeter  worst area  worst smoothness  \\\n0          17.33           184.60      2019.0            0.1622   \n1          23.41           158.80      1956.0            0.1238   \n2          25.53           152.50      1709.0            0.1444   \n3          26.50            98.87       567.7            0.2098   \n4          16.67           152.20      1575.0            0.1374   \n\n   worst compactness  worst concavity  worst concave points  worst symmetry  \\\n0             0.6656           0.7119                0.2654          0.4601   \n1             0.1866           0.2416                0.1860          0.2750   \n2             0.4245           0.4504                0.2430          0.3613   \n3             0.8663           0.6869                0.2575          0.6638   \n4             0.2050           0.4000                0.1625          0.2364   \n\n   worst fractal dimension  \n0                  0.11890  \n1                  0.08902  \n2                  0.08758  \n3                  0.17300  \n4                  0.07678  \n\n[5 rows x 30 columns]"
                    }, 
                    "metadata": {}
                }
            ], 
            "metadata": {
                "collapsed": false
            }
        }, 
        {
            "cell_type": "markdown", 
            "source": "# Exploratory Data Analysis\n\n", 
            "metadata": {}
        }, 
        {
            "cell_type": "markdown", 
            "source": "We'll skip the Data Viz part for this lecture since there are so many features that are hard to interpret if you don't have domain knowledge of cancer or tumor cells. In your project you will have more to visualize for the data.", 
            "metadata": {}
        }, 
        {
            "cell_type": "markdown", 
            "source": "## Train Test Split", 
            "metadata": {}
        }, 
        {
            "cell_type": "code", 
            "source": "from sklearn.cross_validation import train_test_split", 
            "execution_count": 33, 
            "outputs": [], 
            "metadata": {
                "collapsed": true
            }
        }, 
        {
            "cell_type": "code", 
            "source": "X = df_feat\ny = cancer['target']\nX_train, X_test, y_train, y_test = train_test_split(df_feat, np.ravel(df_target), test_size=0.30, random_state=101)", 
            "execution_count": 34, 
            "outputs": [], 
            "metadata": {
                "collapsed": false
            }
        }, 
        {
            "cell_type": "markdown", 
            "source": "# Train the Support Vector Classifier", 
            "metadata": {}
        }, 
        {
            "cell_type": "code", 
            "source": "from sklearn.svm import SVC", 
            "execution_count": 35, 
            "outputs": [], 
            "metadata": {
                "collapsed": true
            }
        }, 
        {
            "cell_type": "code", 
            "source": "model = SVC()", 
            "execution_count": 36, 
            "outputs": [], 
            "metadata": {
                "collapsed": true
            }
        }, 
        {
            "cell_type": "code", 
            "source": "model.fit(X_train,y_train)", 
            "execution_count": 37, 
            "outputs": [
                {
                    "output_type": "execute_result", 
                    "execution_count": 37, 
                    "data": {
                        "text/plain": "SVC(C=1.0, cache_size=200, class_weight=None, coef0=0.0,\n  decision_function_shape=None, degree=3, gamma='auto', kernel='rbf',\n  max_iter=-1, probability=False, random_state=None, shrinking=True,\n  tol=0.001, verbose=False)"
                    }, 
                    "metadata": {}
                }
            ], 
            "metadata": {
                "collapsed": false
            }
        }, 
        {
            "cell_type": "markdown", 
            "source": "## Predictions and Evaluations\n\nNow let's predict using the trained model.", 
            "metadata": {}
        }, 
        {
            "cell_type": "code", 
            "source": "predictions = model.predict(X_test)", 
            "execution_count": 38, 
            "outputs": [], 
            "metadata": {
                "collapsed": false
            }
        }, 
        {
            "cell_type": "code", 
            "source": "from sklearn.metrics import classification_report,confusion_matrix", 
            "execution_count": 39, 
            "outputs": [], 
            "metadata": {
                "collapsed": true
            }
        }, 
        {
            "cell_type": "code", 
            "source": "print(confusion_matrix(y_test,predictions))", 
            "execution_count": 40, 
            "outputs": [
                {
                    "output_type": "stream", 
                    "text": "[[  0  66]\n [  0 105]]\n", 
                    "name": "stdout"
                }
            ], 
            "metadata": {
                "collapsed": false
            }
        }, 
        {
            "cell_type": "code", 
            "source": "print(classification_report(y_test,predictions))", 
            "execution_count": 41, 
            "outputs": [
                {
                    "output_type": "stream", 
                    "text": "             precision    recall  f1-score   support\n\n          0       0.00      0.00      0.00        66\n          1       0.61      1.00      0.76       105\n\navg / total       0.38      0.61      0.47       171\n\n", 
                    "name": "stdout"
                }, 
                {
                    "output_type": "stream", 
                    "text": "/usr/local/src/conda3_runtime/4.1.1/lib/python3.5/site-packages/sklearn/metrics/classification.py:1074: UndefinedMetricWarning: Precision and F-score are ill-defined and being set to 0.0 in labels with no predicted samples.\n  'precision', 'predicted', average, warn_for)\n", 
                    "name": "stderr"
                }
            ], 
            "metadata": {
                "collapsed": false
            }
        }, 
        {
            "cell_type": "markdown", 
            "source": "Woah! Notice that we are classifying everything into a single class! This means our model needs to have it parameters adjusted (it may also help to normalize the data).\n\nWe can search for parameters using a GridSearch!", 
            "metadata": {}
        }, 
        {
            "cell_type": "markdown", 
            "source": "# Gridsearch\n\nFinding the right parameters (like what C or gamma values to use) is a tricky task! But luckily, we can be a little lazy and just try a bunch of combinations and see what works best! This idea of creating a 'grid' of parameters and just trying out all the possible combinations is called a Gridsearch, this method is common enough that Scikit-learn has this functionality built in with GridSearchCV! The CV stands for cross-validation which is the\n\nGridSearchCV takes a dictionary that describes the parameters that should be tried and a model to train. The grid of parameters is defined as a dictionary, where the keys are the parameters and the values are the settings to be tested. ", 
            "metadata": {}
        }, 
        {
            "cell_type": "code", 
            "source": "param_grid = {'C': [0.1,1, 10, 100, 1000], 'gamma': [1,0.1,0.01,0.001,0.0001], 'kernel': ['rbf']} ", 
            "execution_count": 45, 
            "outputs": [], 
            "metadata": {
                "collapsed": true
            }
        }, 
        {
            "cell_type": "code", 
            "source": "from sklearn.grid_search import GridSearchCV", 
            "execution_count": 46, 
            "outputs": [], 
            "metadata": {
                "collapsed": true
            }
        }, 
        {
            "cell_type": "markdown", 
            "source": "One of the great things about GridSearchCV is that it is a meta-estimator. It takes an estimator like SVC, and creates a new estimator, that behaves exactly the same - in this case, like a classifier. You should add refit=True and choose verbose to whatever number you want, higher the number, the more verbose (verbose just means the text output describing the process).", 
            "metadata": {}
        }, 
        {
            "cell_type": "code", 
            "source": "grid = GridSearchCV(SVC(),param_grid,refit=True,verbose=3)", 
            "execution_count": 47, 
            "outputs": [], 
            "metadata": {
                "collapsed": true
            }
        }, 
        {
            "cell_type": "markdown", 
            "source": "What fit does is a bit more involved then usual. First, it runs the same loop with cross-validation, to find the best parameter combination. Once it has the best combination, it runs fit again on all data passed to fit (without cross-validation), to built a single new model using the best parameter setting.", 
            "metadata": {}
        }, 
        {
            "cell_type": "code", 
            "source": "# May take awhile!\ngrid.fit(X_train,y_train)", 
            "execution_count": 48, 
            "outputs": [
                {
                    "output_type": "stream", 
                    "text": "Fitting 3 folds for each of 25 candidates, totalling 75 fits\n[CV] C=0.1, gamma=1, kernel=rbf ......................................\n[CV] ............. C=0.1, gamma=1, kernel=rbf, score=0.631579 -   0.0s\n[CV] C=0.1, gamma=1, kernel=rbf ......................................\n[CV] ............. C=0.1, gamma=1, kernel=rbf, score=0.631579 -   0.0s\n[CV] C=0.1, gamma=1, kernel=rbf ......................................\n[CV] ............. C=0.1, gamma=1, kernel=rbf, score=0.636364 -   0.0s\n[CV] C=0.1, gamma=0.1, kernel=rbf ....................................\n[CV] ........... C=0.1, gamma=0.1, kernel=rbf, score=0.631579 -   0.0s\n[CV] C=0.1, gamma=0.1, kernel=rbf ....................................\n[CV] ........... C=0.1, gamma=0.1, kernel=rbf, score=0.631579 -   0.0s\n[CV] C=0.1, gamma=0.1, kernel=rbf ....................................\n[CV] ........... C=0.1, gamma=0.1, kernel=rbf, score=0.636364 -   0.0s\n[CV] C=0.1, gamma=0.01, kernel=rbf ...................................\n[CV] .......... C=0.1, gamma=0.01, kernel=rbf, score=0.631579 -   0.0s\n[CV] C=0.1, gamma=0.01, kernel=rbf ...................................\n[CV] .......... C=0.1, gamma=0.01, kernel=rbf, score=0.631579 -   0.0s\n[CV] C=0.1, gamma=0.01, kernel=rbf ...................................\n[CV] .......... C=0.1, gamma=0.01, kernel=rbf, score=0.636364 -   0.0s\n[CV] C=0.1, gamma=0.001, kernel=rbf ..................................\n[CV] ......... C=0.1, gamma=0.001, kernel=rbf, score=0.631579 -   0.0s\n[CV] C=0.1, gamma=0.001, kernel=rbf ..................................\n[CV] ......... C=0.1, gamma=0.001, kernel=rbf, score=0.631579 -   0.0s\n[CV] C=0.1, gamma=0.001, kernel=rbf ..................................\n[CV] ......... C=0.1, gamma=0.001, kernel=rbf, score=0.636364 -   0.0s\n[CV] C=0.1, gamma=0.0001, kernel=rbf .................................\n[CV] ........ C=0.1, gamma=0.0001, kernel=rbf, score=0.902256 -   0.0s\n[CV] C=0.1, gamma=0.0001, kernel=rbf .................................\n[CV] ........ C=0.1, gamma=0.0001, kernel=rbf, score=0.962406 -   0.0s\n[CV] C=0.1, gamma=0.0001, kernel=rbf .................................\n[CV] ........ C=0.1, gamma=0.0001, kernel=rbf, score=0.916667 -   0.0s\n[CV] C=1, gamma=1, kernel=rbf ........................................\n[CV] ............... C=1, gamma=1, kernel=rbf, score=0.631579 -   0.0s\n[CV] C=1, gamma=1, kernel=rbf ........................................\n[CV] ............... C=1, gamma=1, kernel=rbf, score=0.631579 -   0.0s\n[CV] C=1, gamma=1, kernel=rbf ........................................\n[CV] ............... C=1, gamma=1, kernel=rbf, score=0.636364 -   0.0s\n[CV] C=1, gamma=0.1, kernel=rbf ......................................\n[CV] ............. C=1, gamma=0.1, kernel=rbf, score=0.631579 -   0.0s\n[CV] C=1, gamma=0.1, kernel=rbf ......................................\n[CV] ............. C=1, gamma=0.1, kernel=rbf, score=0.631579 -   0.0s\n[CV] C=1, gamma=0.1, kernel=rbf ......................................\n[CV] ............. C=1, gamma=0.1, kernel=rbf, score=0.636364 -   0.0s\n[CV] C=1, gamma=0.01, kernel=rbf .....................................\n[CV] ............ C=1, gamma=0.01, kernel=rbf, score=0.631579 -   0.0s\n[CV] C=1, gamma=0.01, kernel=rbf .....................................\n[CV] ............ C=1, gamma=0.01, kernel=rbf, score=0.631579 -   0.0s\n[CV] C=1, gamma=0.01, kernel=rbf .....................................\n[CV] ............ C=1, gamma=0.01, kernel=rbf, score=0.636364 -   0.0s\n[CV] C=1, gamma=0.001, kernel=rbf ....................................\n[CV] ........... C=1, gamma=0.001, kernel=rbf, score=0.902256 -   0.0s\n[CV] C=1, gamma=0.001, kernel=rbf ....................................\n[CV] ........... C=1, gamma=0.001, kernel=rbf, score=0.939850 -   0.0s\n[CV] C=1, gamma=0.001, kernel=rbf ....................................\n[CV] ........... C=1, gamma=0.001, kernel=rbf, score=0.954545 -   0.0s\n[CV] C=1, gamma=0.0001, kernel=rbf ...................................\n[CV] .......... C=1, gamma=0.0001, kernel=rbf, score=0.939850 -   0.0s\n[CV] C=1, gamma=0.0001, kernel=rbf ...................................\n[CV] .......... C=1, gamma=0.0001, kernel=rbf, score=0.969925 -   0.0s\n[CV] C=1, gamma=0.0001, kernel=rbf ...................................\n[CV] .......... C=1, gamma=0.0001, kernel=rbf, score=0.946970 -   0.0s\n[CV] C=10, gamma=1, kernel=rbf .......................................\n[CV] .............. C=10, gamma=1, kernel=rbf, score=0.631579 -   0.0s\n[CV] C=10, gamma=1, kernel=rbf .......................................\n[CV] .............. C=10, gamma=1, kernel=rbf, score=0.631579 -   0.0s\n[CV] C=10, gamma=1, kernel=rbf .......................................\n[CV] .............. C=10, gamma=1, kernel=rbf, score=0.636364 -   0.0s\n[CV] C=10, gamma=0.1, kernel=rbf .....................................\n[CV] ............ C=10, gamma=0.1, kernel=rbf, score=0.631579 -   0.0s\n[CV] C=10, gamma=0.1, kernel=rbf .....................................\n[CV] ............ C=10, gamma=0.1, kernel=rbf, score=0.631579 -   0.0s\n[CV] C=10, gamma=0.1, kernel=rbf .....................................\n[CV] ............ C=10, gamma=0.1, kernel=rbf, score=0.636364 -   0.0s\n[CV] C=10, gamma=0.01, kernel=rbf ....................................\n[CV] ........... C=10, gamma=0.01, kernel=rbf, score=0.631579 -   0.0s\n[CV] C=10, gamma=0.01, kernel=rbf ....................................\n[CV] ........... C=10, gamma=0.01, kernel=rbf, score=0.631579 -   0.0s\n[CV] C=10, gamma=0.01, kernel=rbf ....................................\n[CV] ........... C=10, gamma=0.01, kernel=rbf, score=0.636364 -   0.0s\n[CV] C=10, gamma=0.001, kernel=rbf ...................................\n[CV] .......... C=10, gamma=0.001, kernel=rbf, score=0.894737 -   0.0s\n[CV] C=10, gamma=0.001, kernel=rbf ...................................\n[CV] .......... C=10, gamma=0.001, kernel=rbf, score=0.932331 -   0.0s\n[CV] C=10, gamma=0.001, kernel=rbf ...................................\n[CV] .......... C=10, gamma=0.001, kernel=rbf, score=0.916667 -   0.0s\n[CV] C=10, gamma=0.0001, kernel=rbf ..................................\n", 
                    "name": "stdout"
                }, 
                {
                    "output_type": "stream", 
                    "text": "[Parallel(n_jobs=1)]: Done  31 tasks       | elapsed:    0.3s\n", 
                    "name": "stderr"
                }, 
                {
                    "output_type": "stream", 
                    "text": "[CV] ......... C=10, gamma=0.0001, kernel=rbf, score=0.932331 -   0.0s\n[CV] C=10, gamma=0.0001, kernel=rbf ..................................\n[CV] ......... C=10, gamma=0.0001, kernel=rbf, score=0.969925 -   0.0s\n[CV] C=10, gamma=0.0001, kernel=rbf ..................................\n[CV] ......... C=10, gamma=0.0001, kernel=rbf, score=0.962121 -   0.0s\n[CV] C=100, gamma=1, kernel=rbf ......................................\n[CV] ............. C=100, gamma=1, kernel=rbf, score=0.631579 -   0.0s\n[CV] C=100, gamma=1, kernel=rbf ......................................\n[CV] ............. C=100, gamma=1, kernel=rbf, score=0.631579 -   0.0s\n[CV] C=100, gamma=1, kernel=rbf ......................................\n[CV] ............. C=100, gamma=1, kernel=rbf, score=0.636364 -   0.0s\n[CV] C=100, gamma=0.1, kernel=rbf ....................................\n[CV] ........... C=100, gamma=0.1, kernel=rbf, score=0.631579 -   0.0s\n[CV] C=100, gamma=0.1, kernel=rbf ....................................\n[CV] ........... C=100, gamma=0.1, kernel=rbf, score=0.631579 -   0.0s\n[CV] C=100, gamma=0.1, kernel=rbf ....................................\n[CV] ........... C=100, gamma=0.1, kernel=rbf, score=0.636364 -   0.0s\n[CV] C=100, gamma=0.01, kernel=rbf ...................................\n[CV] .......... C=100, gamma=0.01, kernel=rbf, score=0.631579 -   0.0s\n[CV] C=100, gamma=0.01, kernel=rbf ...................................\n[CV] .......... C=100, gamma=0.01, kernel=rbf, score=0.631579 -   0.0s\n[CV] C=100, gamma=0.01, kernel=rbf ...................................\n[CV] .......... C=100, gamma=0.01, kernel=rbf, score=0.636364 -   0.0s\n[CV] C=100, gamma=0.001, kernel=rbf ..................................\n[CV] ......... C=100, gamma=0.001, kernel=rbf, score=0.894737 -   0.0s\n[CV] C=100, gamma=0.001, kernel=rbf ..................................\n[CV] ......... C=100, gamma=0.001, kernel=rbf, score=0.932331 -   0.0s\n[CV] C=100, gamma=0.001, kernel=rbf ..................................\n[CV] ......... C=100, gamma=0.001, kernel=rbf, score=0.916667 -   0.0s\n[CV] C=100, gamma=0.0001, kernel=rbf .................................\n[CV] ........ C=100, gamma=0.0001, kernel=rbf, score=0.917293 -   0.0s\n[CV] C=100, gamma=0.0001, kernel=rbf .................................\n[CV] ........ C=100, gamma=0.0001, kernel=rbf, score=0.977444 -   0.0s\n[CV] C=100, gamma=0.0001, kernel=rbf .................................\n[CV] ........ C=100, gamma=0.0001, kernel=rbf, score=0.939394 -   0.0s\n[CV] C=1000, gamma=1, kernel=rbf .....................................\n[CV] ............ C=1000, gamma=1, kernel=rbf, score=0.631579 -   0.0s\n[CV] C=1000, gamma=1, kernel=rbf .....................................\n[CV] ............ C=1000, gamma=1, kernel=rbf, score=0.631579 -   0.0s\n[CV] C=1000, gamma=1, kernel=rbf .....................................\n[CV] ............ C=1000, gamma=1, kernel=rbf, score=0.636364 -   0.0s\n[CV] C=1000, gamma=0.1, kernel=rbf ...................................\n[CV] .......... C=1000, gamma=0.1, kernel=rbf, score=0.631579 -   0.0s\n[CV] C=1000, gamma=0.1, kernel=rbf ...................................\n[CV] .......... C=1000, gamma=0.1, kernel=rbf, score=0.631579 -   0.0s\n[CV] C=1000, gamma=0.1, kernel=rbf ...................................\n[CV] .......... C=1000, gamma=0.1, kernel=rbf, score=0.636364 -   0.0s\n[CV] C=1000, gamma=0.01, kernel=rbf ..................................\n[CV] ......... C=1000, gamma=0.01, kernel=rbf, score=0.631579 -   0.0s\n[CV] C=1000, gamma=0.01, kernel=rbf ..................................\n[CV] ......... C=1000, gamma=0.01, kernel=rbf, score=0.631579 -   0.0s\n[CV] C=1000, gamma=0.01, kernel=rbf ..................................\n[CV] ......... C=1000, gamma=0.01, kernel=rbf, score=0.636364 -   0.0s\n[CV] C=1000, gamma=0.001, kernel=rbf .................................\n[CV] ........ C=1000, gamma=0.001, kernel=rbf, score=0.894737 -   0.0s\n[CV] C=1000, gamma=0.001, kernel=rbf .................................\n[CV] ........ C=1000, gamma=0.001, kernel=rbf, score=0.932331 -   0.0s\n[CV] C=1000, gamma=0.001, kernel=rbf .................................\n[CV] ........ C=1000, gamma=0.001, kernel=rbf, score=0.916667 -   0.0s\n[CV] C=1000, gamma=0.0001, kernel=rbf ................................\n[CV] ....... C=1000, gamma=0.0001, kernel=rbf, score=0.909774 -   0.0s\n[CV] C=1000, gamma=0.0001, kernel=rbf ................................\n[CV] ....... C=1000, gamma=0.0001, kernel=rbf, score=0.969925 -   0.0s\n[CV] C=1000, gamma=0.0001, kernel=rbf ................................\n[CV] ....... C=1000, gamma=0.0001, kernel=rbf, score=0.931818 -   0.0s\n", 
                    "name": "stdout"
                }, 
                {
                    "output_type": "stream", 
                    "text": "[Parallel(n_jobs=1)]: Done  75 out of  75 | elapsed:    0.7s finished\n", 
                    "name": "stderr"
                }, 
                {
                    "output_type": "execute_result", 
                    "execution_count": 48, 
                    "data": {
                        "text/plain": "GridSearchCV(cv=None, error_score='raise',\n       estimator=SVC(C=1.0, cache_size=200, class_weight=None, coef0=0.0,\n  decision_function_shape=None, degree=3, gamma='auto', kernel='rbf',\n  max_iter=-1, probability=False, random_state=None, shrinking=True,\n  tol=0.001, verbose=False),\n       fit_params={}, iid=True, n_jobs=1,\n       param_grid={'C': [0.1, 1, 10, 100, 1000], 'gamma': [1, 0.1, 0.01, 0.001, 0.0001], 'kernel': ['rbf']},\n       pre_dispatch='2*n_jobs', refit=True, scoring=None, verbose=3)"
                    }, 
                    "metadata": {}
                }
            ], 
            "metadata": {
                "collapsed": false
            }
        }, 
        {
            "cell_type": "markdown", 
            "source": "You can inspect the best parameters found by GridSearchCV in the best_params_ attribute, and the best estimator in the best\\_estimator_ attribute:", 
            "metadata": {}
        }, 
        {
            "cell_type": "code", 
            "source": "grid.best_params_", 
            "execution_count": 49, 
            "outputs": [
                {
                    "output_type": "execute_result", 
                    "execution_count": 49, 
                    "data": {
                        "text/plain": "{'C': 10, 'gamma': 0.0001, 'kernel': 'rbf'}"
                    }, 
                    "metadata": {}
                }
            ], 
            "metadata": {
                "collapsed": false
            }
        }, 
        {
            "cell_type": "code", 
            "source": "grid.best_estimator_", 
            "execution_count": 40, 
            "outputs": [
                {
                    "output_type": "execute_result", 
                    "execution_count": 40, 
                    "data": {
                        "text/plain": "SVC(C=10, cache_size=200, class_weight=None, coef0=0.0,\n  decision_function_shape=None, degree=3, gamma=0.0001, kernel='rbf',\n  max_iter=-1, probability=False, random_state=None, shrinking=True,\n  tol=0.001, verbose=False)"
                    }, 
                    "metadata": {}
                }
            ], 
            "metadata": {
                "collapsed": false
            }
        }, 
        {
            "cell_type": "markdown", 
            "source": "Then you can re-run predictions on this grid object just like you would with a normal model.", 
            "metadata": {}
        }, 
        {
            "cell_type": "code", 
            "source": "grid_predictions = grid.predict(X_test)", 
            "execution_count": 42, 
            "outputs": [
                {
                    "evalue": "name 'grid' is not defined", 
                    "traceback": [
                        "\u001b[1;31m\u001b[0m", 
                        "\u001b[1;31mNameError\u001b[0mTraceback (most recent call last)", 
                        "\u001b[1;32m<ipython-input-42-d9d2fa7c6ba9>\u001b[0m in \u001b[0;36m<module>\u001b[1;34m()\u001b[0m\n\u001b[1;32m----> 1\u001b[1;33m \u001b[0mgrid_predictions\u001b[0m \u001b[1;33m=\u001b[0m \u001b[0mgrid\u001b[0m\u001b[1;33m.\u001b[0m\u001b[0mpredict\u001b[0m\u001b[1;33m(\u001b[0m\u001b[0mX_test\u001b[0m\u001b[1;33m)\u001b[0m\u001b[1;33m\u001b[0m\u001b[0m\n\u001b[0m", 
                        "\u001b[1;31mNameError\u001b[0m: name 'grid' is not defined"
                    ], 
                    "ename": "NameError", 
                    "output_type": "error"
                }
            ], 
            "metadata": {
                "collapsed": false
            }
        }, 
        {
            "cell_type": "code", 
            "source": "print(confusion_matrix(y_test,grid_predictions))", 
            "execution_count": 43, 
            "outputs": [
                {
                    "evalue": "name 'grid_predictions' is not defined", 
                    "traceback": [
                        "\u001b[1;31m\u001b[0m", 
                        "\u001b[1;31mNameError\u001b[0mTraceback (most recent call last)", 
                        "\u001b[1;32m<ipython-input-43-83edb875c058>\u001b[0m in \u001b[0;36m<module>\u001b[1;34m()\u001b[0m\n\u001b[1;32m----> 1\u001b[1;33m \u001b[0mprint\u001b[0m\u001b[1;33m(\u001b[0m\u001b[0mconfusion_matrix\u001b[0m\u001b[1;33m(\u001b[0m\u001b[0my_test\u001b[0m\u001b[1;33m,\u001b[0m\u001b[0mgrid_predictions\u001b[0m\u001b[1;33m)\u001b[0m\u001b[1;33m)\u001b[0m\u001b[1;33m\u001b[0m\u001b[0m\n\u001b[0m", 
                        "\u001b[1;31mNameError\u001b[0m: name 'grid_predictions' is not defined"
                    ], 
                    "ename": "NameError", 
                    "output_type": "error"
                }
            ], 
            "metadata": {
                "collapsed": false
            }
        }, 
        {
            "cell_type": "code", 
            "source": "print(classification_report(y_test,grid_predictions))", 
            "execution_count": 43, 
            "outputs": [
                {
                    "output_type": "stream", 
                    "text": "             precision    recall  f1-score   support\n\n          0       0.95      0.91      0.93        66\n          1       0.94      0.97      0.96       105\n\navg / total       0.95      0.95      0.95       171\n\n", 
                    "name": "stdout"
                }
            ], 
            "metadata": {
                "collapsed": false
            }
        }, 
        {
            "cell_type": "markdown", 
            "source": "# Great job!", 
            "metadata": {}
        }
    ], 
    "nbformat_minor": 0, 
    "nbformat": 4, 
    "metadata": {
        "kernelspec": {
            "language": "python", 
            "display_name": "Python 3.5 (Experimental) with Spark 1.6", 
            "name": "python3"
        }, 
        "language_info": {
            "pygments_lexer": "ipython3", 
            "mimetype": "text/x-python", 
            "nbconvert_exporter": "python", 
            "name": "python", 
            "file_extension": ".py", 
            "version": "3.5.2", 
            "codemirror_mode": {
                "version": 3, 
                "name": "ipython"
            }
        }
    }
}