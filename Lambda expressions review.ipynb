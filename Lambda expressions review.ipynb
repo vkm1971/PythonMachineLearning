{
    "nbformat": 4, 
    "nbformat_minor": 0, 
    "metadata": {
        "language_info": {
            "version": "2.7.11", 
            "pygments_lexer": "ipython2", 
            "mimetype": "text/x-python", 
            "codemirror_mode": {
                "name": "ipython", 
                "version": 2
            }, 
            "name": "python", 
            "nbconvert_exporter": "python", 
            "file_extension": ".py"
        }, 
        "kernelspec": {
            "language": "python", 
            "name": "python2", 
            "display_name": "Python 2 with Spark 1.6"
        }
    }, 
    "cells": [
        {
            "source": "#lambda expressions\n\nOne of Pythons most useful (and for beginners, confusing) tools is the lambda expression. lambda expressions allow us to create \"anonymous\" functions. This basically means we can quickly make ad-hoc functions without needing to properly define a function using def.\n\nFunction objects returned by running lambda expressions work exactly the same as those created and assigned by defs. There is key difference that makes lambda useful in specialized roles:\n\n**lambda's body is a single expression, not a block of statements.**\n\n* The lambda's body is similar to what we would put in a def body's return statement. We simply type the result as an expression instead of explicitly returning it. Because it is limited to an expression, a lambda is less general that a def. We can only squeeze design, to limit program nesting. lambda is designed for coding simple functions, and def handles the larger tasks.\n\nLets slowly break down a lambda expression by deconstructing a function:", 
            "metadata": {}, 
            "cell_type": "markdown"
        }, 
        {
            "source": "def square(num):\n    result = num**2\n    return result", 
            "execution_count": 1, 
            "outputs": [], 
            "metadata": {
                "collapsed": true
            }, 
            "cell_type": "code"
        }, 
        {
            "source": "square(2)", 
            "execution_count": 2, 
            "outputs": [
                {
                    "execution_count": 2, 
                    "data": {
                        "text/plain": "4"
                    }, 
                    "output_type": "execute_result", 
                    "metadata": {}
                }
            ], 
            "metadata": {
                "collapsed": false
            }, 
            "cell_type": "code"
        }, 
        {
            "source": "Continuing the breakdown:", 
            "metadata": {}, 
            "cell_type": "markdown"
        }, 
        {
            "source": "def square(num):\n    return num**2", 
            "execution_count": 3, 
            "outputs": [], 
            "metadata": {
                "collapsed": true
            }, 
            "cell_type": "code"
        }, 
        {
            "source": "square(2)", 
            "execution_count": 4, 
            "outputs": [
                {
                    "execution_count": 4, 
                    "data": {
                        "text/plain": "4"
                    }, 
                    "output_type": "execute_result", 
                    "metadata": {}
                }
            ], 
            "metadata": {
                "collapsed": false
            }, 
            "cell_type": "code"
        }, 
        {
            "source": "We can actually write this in one line (although it would be bad style to do so)", 
            "metadata": {}, 
            "cell_type": "markdown"
        }, 
        {
            "source": "def square(num): return num**2", 
            "execution_count": 3, 
            "outputs": [], 
            "metadata": {
                "collapsed": true
            }, 
            "cell_type": "code"
        }, 
        {
            "source": "square(2)", 
            "execution_count": 6, 
            "outputs": [
                {
                    "execution_count": 6, 
                    "data": {
                        "text/plain": "4"
                    }, 
                    "output_type": "execute_result", 
                    "metadata": {}
                }
            ], 
            "metadata": {
                "collapsed": false
            }, 
            "cell_type": "code"
        }, 
        {
            "source": "This is the form a function that a lambda expression intends to replicate. A lambda expression can then be written as:", 
            "metadata": {}, 
            "cell_type": "markdown"
        }, 
        {
            "source": "lambda num: num**2", 
            "execution_count": 4, 
            "outputs": [
                {
                    "execution_count": 4, 
                    "data": {
                        "text/plain": "<function __main__.<lambda>>"
                    }, 
                    "output_type": "execute_result", 
                    "metadata": {}
                }
            ], 
            "metadata": {
                "collapsed": false
            }, 
            "cell_type": "code"
        }, 
        {
            "source": "Note how we get a function back. We can assign this function to a label:", 
            "metadata": {}, 
            "cell_type": "markdown"
        }, 
        {
            "source": "square = lambda num: num**2", 
            "execution_count": 5, 
            "outputs": [], 
            "metadata": {
                "collapsed": true
            }, 
            "cell_type": "code"
        }, 
        {
            "source": "square(2)", 
            "execution_count": 6, 
            "outputs": [
                {
                    "execution_count": 6, 
                    "data": {
                        "text/plain": "4"
                    }, 
                    "output_type": "execute_result", 
                    "metadata": {}
                }
            ], 
            "metadata": {
                "collapsed": false
            }, 
            "cell_type": "code"
        }, 
        {
            "source": "And there you have it! The breakdown of a function into a lambda expression!\nLets see a few more examples:\n\n##Example 1\nCheck it a number is even", 
            "metadata": {}, 
            "cell_type": "markdown"
        }, 
        {
            "source": "even = lambda x: x%2==0", 
            "execution_count": 7, 
            "outputs": [], 
            "metadata": {
                "collapsed": false
            }, 
            "cell_type": "code"
        }, 
        {
            "source": "even(3)", 
            "execution_count": 8, 
            "outputs": [
                {
                    "execution_count": 8, 
                    "data": {
                        "text/plain": "False"
                    }, 
                    "output_type": "execute_result", 
                    "metadata": {}
                }
            ], 
            "metadata": {
                "collapsed": false
            }, 
            "cell_type": "code"
        }, 
        {
            "source": "even(4)", 
            "execution_count": 9, 
            "outputs": [
                {
                    "execution_count": 9, 
                    "data": {
                        "text/plain": "True"
                    }, 
                    "output_type": "execute_result", 
                    "metadata": {}
                }
            ], 
            "metadata": {
                "collapsed": false
            }, 
            "cell_type": "code"
        }, 
        {
            "source": "##Example 2\nGrab first character of a string:", 
            "metadata": {}, 
            "cell_type": "markdown"
        }, 
        {
            "source": "first = lambda s: s[0]", 
            "execution_count": 10, 
            "outputs": [], 
            "metadata": {
                "collapsed": true
            }, 
            "cell_type": "code"
        }, 
        {
            "source": "first('hello')", 
            "execution_count": 11, 
            "outputs": [
                {
                    "execution_count": 11, 
                    "data": {
                        "text/plain": "'h'"
                    }, 
                    "output_type": "execute_result", 
                    "metadata": {}
                }
            ], 
            "metadata": {
                "collapsed": false
            }, 
            "cell_type": "code"
        }, 
        {
            "source": "##Example 3\nReverse a string:", 
            "metadata": {}, 
            "cell_type": "markdown"
        }, 
        {
            "source": "rev = lambda s: s[::-1]", 
            "execution_count": 12, 
            "outputs": [], 
            "metadata": {
                "collapsed": true
            }, 
            "cell_type": "code"
        }, 
        {
            "source": "rev('hello')", 
            "execution_count": 13, 
            "outputs": [
                {
                    "execution_count": 13, 
                    "data": {
                        "text/plain": "'olleh'"
                    }, 
                    "output_type": "execute_result", 
                    "metadata": {}
                }
            ], 
            "metadata": {
                "collapsed": false
            }, 
            "cell_type": "code"
        }, 
        {
            "source": "##Example 4\nJust like a normal function, we can accept more than one function into a lambda expresssion:", 
            "metadata": {}, 
            "cell_type": "markdown"
        }, 
        {
            "source": "adder = lambda x,y : x+y", 
            "execution_count": 14, 
            "outputs": [], 
            "metadata": {
                "collapsed": false
            }, 
            "cell_type": "code"
        }, 
        {
            "source": "adder(2,3)", 
            "execution_count": 15, 
            "outputs": [
                {
                    "execution_count": 15, 
                    "data": {
                        "text/plain": "5"
                    }, 
                    "output_type": "execute_result", 
                    "metadata": {}
                }
            ], 
            "metadata": {
                "collapsed": false
            }, 
            "cell_type": "code"
        }, 
        {
            "source": "lambda expressions really shine when used in conjunction with map(),filter() and reduce(). Each of those functions has its own lecture, so feel free to explore them if your very itnerested in lambda.", 
            "metadata": {}, 
            "cell_type": "markdown"
        }, 
        {
            "source": "I highly recommend reading this blog post at [Python Conquers the Universe](https://pythonconquerstheuniverse.wordpress.com/2011/08/29/lambda_tutorial/) for a great breakdown on lambda expressions and some explanations of common confusions! ", 
            "metadata": {}, 
            "cell_type": "markdown"
        }
    ]
}